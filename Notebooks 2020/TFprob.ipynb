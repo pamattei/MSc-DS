{
  "nbformat": 4,
  "nbformat_minor": 0,
  "metadata": {
    "colab": {
      "name": "TFprob.ipynb",
      "provenance": []
    },
    "kernelspec": {
      "name": "python3",
      "display_name": "Python 3"
    }
  },
  "cells": [
    {
      "cell_type": "markdown",
      "metadata": {
        "id": "caWHpc5yrT4O",
        "colab_type": "text"
      },
      "source": [
        "# MSc Data Science: playing with Tensorflow probability"
      ]
    },
    {
      "cell_type": "markdown",
      "metadata": {
        "id": "XkMV1SjLr_6Y",
        "colab_type": "text"
      },
      "source": [
        "TF Probability is a library that allows to use probabilisitic/statistical tools within TF. It will be very useful for us, in particular to code VAEs.\n",
        "\n",
        "Here, I'll simply show you the ropes of TF Probability. This tutorial is inspired by [this one](https://github.com/tensorflow/probability/blob/master/tensorflow_probability/examples/jupyter_notebooks/TensorFlow_Distributions_Tutorial.ipynb).\n",
        "\n",
        "Pytorch also has something very similar called [Pytorch distributions](https://pytorch.org/docs/stable/distributions.html)."
      ]
    },
    {
      "cell_type": "markdown",
      "metadata": {
        "id": "xcXViqjgq7ub",
        "colab_type": "text"
      },
      "source": [
        "# Loading Tensorflow probability"
      ]
    },
    {
      "cell_type": "code",
      "metadata": {
        "id": "ik59_iHBrVmR",
        "colab_type": "code",
        "outputId": "29e5c7e7-4a72-4b2f-fa25-7b5caa9a4ae1",
        "colab": {
          "base_uri": "https://localhost:8080/",
          "height": 34
        }
      },
      "source": [
        "try:\n",
        "  # %tensorflow_version only exists in Colab.\n",
        "  %tensorflow_version 2.x\n",
        "except Exception:\n",
        "  pass"
      ],
      "execution_count": 0,
      "outputs": [
        {
          "output_type": "stream",
          "text": [
            "TensorFlow 2.x selected.\n"
          ],
          "name": "stdout"
        }
      ]
    },
    {
      "cell_type": "code",
      "metadata": {
        "id": "b_RZvko2q3YO",
        "colab_type": "code",
        "colab": {}
      },
      "source": [
        "import tensorflow as tf\n",
        "import tensorflow_probability as tfp\n",
        "import matplotlib.pyplot as plt\n",
        "import numpy as np\n",
        "\n",
        "tfd = tfp.distributions"
      ],
      "execution_count": 0,
      "outputs": []
    },
    {
      "cell_type": "markdown",
      "metadata": {
        "id": "xskOxP9zsp3Z",
        "colab_type": "text"
      },
      "source": [
        "# Univariate distributions"
      ]
    },
    {
      "cell_type": "markdown",
      "metadata": {
        "id": "2zzqleDhsuWg",
        "colab_type": "text"
      },
      "source": [
        "TFP allows you to define **probability distributions** as Python objects that you can use for example to\n",
        "\n",
        "\n",
        "*   sample\n",
        "*   compute densities\n",
        "\n"
      ]
    },
    {
      "cell_type": "markdown",
      "metadata": {
        "id": "SSYf5_EttaCi",
        "colab_type": "text"
      },
      "source": [
        "Let us start simple, with a univariate Gaussian."
      ]
    },
    {
      "cell_type": "code",
      "metadata": {
        "id": "hx64chSkrQZU",
        "colab_type": "code",
        "colab": {}
      },
      "source": [
        "Gaussian = tfd.Normal(loc=0., scale=1.)"
      ],
      "execution_count": 0,
      "outputs": []
    },
    {
      "cell_type": "code",
      "metadata": {
        "id": "vcSnNQPgte6k",
        "colab_type": "code",
        "outputId": "66a237b6-98c7-4440-b63c-761eeaae409b",
        "colab": {
          "base_uri": "https://localhost:8080/",
          "height": 34
        }
      },
      "source": [
        "Gaussian.sample(1) # returns 1 sample"
      ],
      "execution_count": 0,
      "outputs": [
        {
          "output_type": "execute_result",
          "data": {
            "text/plain": [
              "<tf.Tensor: id=22, shape=(1,), dtype=float32, numpy=array([-0.7388823], dtype=float32)>"
            ]
          },
          "metadata": {
            "tags": []
          },
          "execution_count": 4
        }
      ]
    },
    {
      "cell_type": "code",
      "metadata": {
        "id": "3B7z7rfbtlvr",
        "colab_type": "code",
        "outputId": "9169d687-5ecd-444e-e896-09a61793b84a",
        "colab": {
          "base_uri": "https://localhost:8080/",
          "height": 85
        }
      },
      "source": [
        "Gaussian.sample(10) # returns 10 samples"
      ],
      "execution_count": 0,
      "outputs": [
        {
          "output_type": "execute_result",
          "data": {
            "text/plain": [
              "<tf.Tensor: id=43, shape=(10,), dtype=float32, numpy=\n",
              "array([-0.45604816, -0.86629474,  0.62787163,  0.1838453 ,  1.7844048 ,\n",
              "        1.185402  , -0.02004844, -1.1157082 , -1.1035575 ,  1.0952417 ],\n",
              "      dtype=float32)>"
            ]
          },
          "metadata": {
            "tags": []
          },
          "execution_count": 5
        }
      ]
    },
    {
      "cell_type": "code",
      "metadata": {
        "id": "jLD2qQcpnTDt",
        "colab_type": "code",
        "outputId": "9ef75bfe-b75a-41a9-c82b-5c8f84135ebb",
        "colab": {
          "base_uri": "https://localhost:8080/",
          "height": 34
        }
      },
      "source": [
        "Gaussian.mean().numpy()"
      ],
      "execution_count": 0,
      "outputs": [
        {
          "output_type": "execute_result",
          "data": {
            "text/plain": [
              "0.0"
            ]
          },
          "metadata": {
            "tags": []
          },
          "execution_count": 7
        }
      ]
    },
    {
      "cell_type": "code",
      "metadata": {
        "id": "4MTGKRRot5Ns",
        "colab_type": "code",
        "outputId": "17140395-5575-4510-f837-08ac67065f60",
        "colab": {
          "base_uri": "https://localhost:8080/",
          "height": 34
        }
      },
      "source": [
        "x = 3\n",
        "\n",
        "Gaussian.prob(x) # compute the density of x"
      ],
      "execution_count": 0,
      "outputs": [
        {
          "output_type": "execute_result",
          "data": {
            "text/plain": [
              "<tf.Tensor: id=76, shape=(), dtype=float32, numpy=0.004431848>"
            ]
          },
          "metadata": {
            "tags": []
          },
          "execution_count": 11
        }
      ]
    },
    {
      "cell_type": "code",
      "metadata": {
        "id": "M9CqFVRPvorF",
        "colab_type": "code",
        "outputId": "a4ec80bd-6c83-4364-e4e2-bc55780f1e2e",
        "colab": {
          "base_uri": "https://localhost:8080/",
          "height": 34
        }
      },
      "source": [
        "x = 3\n",
        "\n",
        "Gaussian.log_prob(x) # compute the log  of density of x (useful to compute log-likelihoods!)"
      ],
      "execution_count": 0,
      "outputs": [
        {
          "output_type": "execute_result",
          "data": {
            "text/plain": [
              "<tf.Tensor: id=378, shape=(), dtype=float32, numpy=-5.4189386>"
            ]
          },
          "metadata": {
            "tags": []
          },
          "execution_count": 23
        }
      ]
    },
    {
      "cell_type": "code",
      "metadata": {
        "id": "xH92P9DIuZsY",
        "colab_type": "code",
        "outputId": "15093750-9e07-44d7-d42c-7c53d8a3ee87",
        "colab": {
          "base_uri": "https://localhost:8080/",
          "height": 281
        }
      },
      "source": [
        "points = np.linspace(-4,4,100)\n",
        "\n",
        "plt.plot(points, Gaussian.prob(points))\n",
        "plt.title(\"Gaussian density\")\n",
        "plt.show()"
      ],
      "execution_count": 0,
      "outputs": [
        {
          "output_type": "display_data",
          "data": {
            "image/png": "[encoded data removed]",
            "text/plain": [
              "<Figure size 432x288 with 1 Axes>"
            ]
          },
          "metadata": {
            "tags": []
          }
        }
      ]
    },
    {
      "cell_type": "code",
      "metadata": {
        "id": "DrTlU9Uoy2su",
        "colab_type": "code",
        "outputId": "b144b044-f8c6-4252-8de9-7898867f4ff6",
        "colab": {
          "base_uri": "https://localhost:8080/",
          "height": 281
        }
      },
      "source": [
        "points = np.linspace(-4,4,100)\n",
        "\n",
        "plt.plot(points, Gaussian.log_prob(points))\n",
        "plt.title(\"log of Gaussian density\")\n",
        "plt.show()"
      ],
      "execution_count": 0,
      "outputs": [
        {
          "output_type": "display_data",
          "data": {
            "image/png": "[encoded data removed]",
            "text/plain": [
              "<Figure size 432x288 with 1 Axes>"
            ]
          },
          "metadata": {
            "tags": []
          }
        }
      ]
    },
    {
      "cell_type": "markdown",
      "metadata": {
        "id": "vkILTQ_-tyY2",
        "colab_type": "text"
      },
      "source": [
        "Many more classical distributions are implemented, like the Student's t:"
      ]
    },
    {
      "cell_type": "code",
      "metadata": {
        "id": "dPLcwZvztpMT",
        "colab_type": "code",
        "colab": {}
      },
      "source": [
        "Student = tfd.StudentT(loc=0., scale=1.,df=2)"
      ],
      "execution_count": 0,
      "outputs": []
    },
    {
      "cell_type": "code",
      "metadata": {
        "id": "Xr6ybsK_u4bL",
        "colab_type": "code",
        "outputId": "e1e08987-9794-455d-a36c-f8e94cb0101f",
        "colab": {
          "base_uri": "https://localhost:8080/",
          "height": 281
        }
      },
      "source": [
        "points = np.linspace(-4,4,100)\n",
        "\n",
        "plt.plot(points, Student.prob(points))\n",
        "plt.title(\"Student's t density with 2 degrees of freedom\")\n",
        "plt.show()"
      ],
      "execution_count": 0,
      "outputs": [
        {
          "output_type": "display_data",
          "data": {
            "image/png": "[encoded data removed]",
            "text/plain": [
              "<Figure size 432x288 with 1 Axes>"
            ]
          },
          "metadata": {
            "tags": []
          }
        }
      ]
    },
    {
      "cell_type": "code",
      "metadata": {
        "id": "5pZ98t9My6Yo",
        "colab_type": "code",
        "outputId": "0b17896a-b158-4f25-999f-e1c971daab8e",
        "colab": {
          "base_uri": "https://localhost:8080/",
          "height": 281
        }
      },
      "source": [
        "points = np.linspace(-4,4,100)\n",
        "\n",
        "plt.plot(points, Student.log_prob(points))\n",
        "plt.title(\"Student's t log density with 2 degrees of freedom\")\n",
        "plt.show()"
      ],
      "execution_count": 0,
      "outputs": [
        {
          "output_type": "display_data",
          "data": {
            "image/png": "[encoded data removed]",
            "text/plain": [
              "<Figure size 432x288 with 1 Axes>"
            ]
          },
          "metadata": {
            "tags": []
          }
        }
      ]
    },
    {
      "cell_type": "markdown",
      "metadata": {
        "id": "2AV38aWCvQzU",
        "colab_type": "text"
      },
      "source": [
        "We can also use discrete distributions, like the Bernoullil:"
      ]
    },
    {
      "cell_type": "code",
      "metadata": {
        "id": "lwc6oxbGvJuL",
        "colab_type": "code",
        "colab": {}
      },
      "source": [
        "Bern = tfd.Bernoulli(probs = 0.2)"
      ],
      "execution_count": 0,
      "outputs": []
    },
    {
      "cell_type": "code",
      "metadata": {
        "id": "_tSoNvczvZ97",
        "colab_type": "code",
        "outputId": "42691a80-495d-460c-ada5-37c9346cc570",
        "colab": {
          "base_uri": "https://localhost:8080/",
          "height": 34
        }
      },
      "source": [
        "Bern.sample(10)"
      ],
      "execution_count": 0,
      "outputs": [
        {
          "output_type": "execute_result",
          "data": {
            "text/plain": [
              "<tf.Tensor: id=368, shape=(10,), dtype=int32, numpy=array([0, 0, 0, 0, 0, 0, 0, 1, 1, 0], dtype=int32)>"
            ]
          },
          "metadata": {
            "tags": []
          },
          "execution_count": 22
        }
      ]
    },
    {
      "cell_type": "markdown",
      "metadata": {
        "id": "KPOATcOwzTRz",
        "colab_type": "text"
      },
      "source": [
        "# Creating several univariate distributions"
      ]
    },
    {
      "cell_type": "markdown",
      "metadata": {
        "id": "Jdshn_nuCHOe",
        "colab_type": "text"
      },
      "source": [
        "Often, in machine learning, we have to deal with a lot of similar distributions. For example, if we want to learn a regression model, we want to define $n$ conditional distributions $p(y|\\mathbf{x}_1),...,p(y|\\mathbf{x}_n)$ with a similar structure.\n",
        "\n",
        "Feeding a bunch of parameters to the function that creates a distribution allows you to create a bunch of distributions at the same time."
      ]
    },
    {
      "cell_type": "code",
      "metadata": {
        "id": "apTjdlyvzYtI",
        "colab_type": "code",
        "outputId": "494ba6c8-8d7a-48c3-b254-62d7ed6b99ad",
        "colab": {
          "base_uri": "https://localhost:8080/",
          "height": 34
        }
      },
      "source": [
        "multiple_Bernoullis = tfd.Bernoulli(probs=[.3, .5, .7])\n",
        "multiple_Bernoullis"
      ],
      "execution_count": 0,
      "outputs": [
        {
          "output_type": "execute_result",
          "data": {
            "text/plain": [
              "<tfp.distributions.Bernoulli 'Bernoulli/' batch_shape=[3] event_shape=[] dtype=int32>"
            ]
          },
          "metadata": {
            "tags": []
          },
          "execution_count": 32
        }
      ]
    },
    {
      "cell_type": "code",
      "metadata": {
        "id": "bhzqCxZhFw9V",
        "colab_type": "code",
        "outputId": "f27311d8-b7e5-4386-e0e2-5a5d849dd7d4",
        "colab": {
          "base_uri": "https://localhost:8080/",
          "height": 122
        }
      },
      "source": [
        "multiple_Bernoullis.sample(5)"
      ],
      "execution_count": 0,
      "outputs": [
        {
          "output_type": "execute_result",
          "data": {
            "text/plain": [
              "<tf.Tensor: id=629, shape=(5, 3), dtype=int32, numpy=\n",
              "array([[0, 0, 0],\n",
              "       [0, 0, 0],\n",
              "       [0, 1, 1],\n",
              "       [0, 0, 1],\n",
              "       [0, 0, 0]], dtype=int32)>"
            ]
          },
          "metadata": {
            "tags": []
          },
          "execution_count": 33
        }
      ]
    },
    {
      "cell_type": "markdown",
      "metadata": {
        "id": "0ISHl2AMDg9L",
        "colab_type": "text"
      },
      "source": [
        "The **batch shape** of [3] indicates that `multiple_Bernoullis` is constitued of a **batch of 3 Bernoulli distributions**.\n",
        "\n",
        "The **event shape** of [] indicates that all these 3 distributions are univariate.\n",
        "\n",
        "**How can we create multivariate distributions?** There are ways to create popular distributions directly (see e.g. `tfd.MultivariateNormalFullCovariance`), but here, we will focus on how to create **products of distributions** (aka fully factorised distributions).\n",
        "\n",
        "\n",
        "\n",
        "\n"
      ]
    },
    {
      "cell_type": "markdown",
      "metadata": {
        "id": "CEePGOFvvgD9",
        "colab_type": "text"
      },
      "source": [
        "# Creating fully factorised distributions\n"
      ]
    },
    {
      "cell_type": "markdown",
      "metadata": {
        "id": "k1RrBrTHE3iA",
        "colab_type": "text"
      },
      "source": [
        "Let's say we have $K$ univariate distributions $p(x_1),...,p(x_K)$. A way to define a distribution over $K$-dimensional vector $\\mathbf{x} = (x_1,...,x_K)$ is to consider the product\n",
        "$$p ( \\mathbf{x}) = \\prod_{k=1}^K  p(x_k).$$\n",
        "\n",
        "This means that the coordinates of $\\mathbf{x}$ will be **independent**.\n",
        "\n",
        "Fully factorised distributions, because they are convenient ways to deal with high-dimensional data, are everywhere in machine learning! For example in VAEs..."
      ]
    },
    {
      "cell_type": "markdown",
      "metadata": {
        "id": "XI6_s4jDGQRB",
        "colab_type": "text"
      },
      "source": [
        "Using TFP, it's rather easy to define fully factorised distributions, via the function `tfd.Independent`. The idea is to first define a bunch of distributions (like we saw before), and then combine them."
      ]
    },
    {
      "cell_type": "code",
      "metadata": {
        "id": "PbB9dptlE2zU",
        "colab_type": "code",
        "outputId": "75b74b05-36ae-4d81-f763-7a39dffb6667",
        "colab": {
          "base_uri": "https://localhost:8080/",
          "height": 34
        }
      },
      "source": [
        "multiple_Bernoullis"
      ],
      "execution_count": 0,
      "outputs": [
        {
          "output_type": "execute_result",
          "data": {
            "text/plain": [
              "<tfp.distributions.Bernoulli 'Bernoulli/' batch_shape=[3] event_shape=[] dtype=int32>"
            ]
          },
          "metadata": {
            "tags": []
          },
          "execution_count": 34
        }
      ]
    },
    {
      "cell_type": "code",
      "metadata": {
        "id": "gc-KSIosvdnT",
        "colab_type": "code",
        "outputId": "55d019e6-2d61-45e0-ec06-1571df81143e",
        "colab": {
          "base_uri": "https://localhost:8080/",
          "height": 34
        }
      },
      "source": [
        "prod_multiple_Bernoullis = tfd.Independent(multiple_Bernoullis, reinterpreted_batch_ndims=1)\n",
        "prod_multiple_Bernoullis"
      ],
      "execution_count": 0,
      "outputs": [
        {
          "output_type": "execute_result",
          "data": {
            "text/plain": [
              "<tfp.distributions.Independent 'IndependentBernoulli/' batch_shape=[] event_shape=[3] dtype=int32>"
            ]
          },
          "metadata": {
            "tags": []
          },
          "execution_count": 37
        }
      ]
    },
    {
      "cell_type": "markdown",
      "metadata": {
        "id": "JWaoQ2x7HQZh",
        "colab_type": "text"
      },
      "source": [
        "Now, the batch shape is [], which indicates that we have a **single distribution**, but the event shape is [3], which indicates that this single distribution is 3-dimensional!"
      ]
    },
    {
      "cell_type": "code",
      "metadata": {
        "id": "ut0m_NY3HA2c",
        "colab_type": "code",
        "outputId": "702d30f3-ea29-4aaf-d356-eddaad74f84b",
        "colab": {
          "base_uri": "https://localhost:8080/",
          "height": 122
        }
      },
      "source": [
        "prod_multiple_Bernoullis.sample(5)"
      ],
      "execution_count": 0,
      "outputs": [
        {
          "output_type": "execute_result",
          "data": {
            "text/plain": [
              "<tf.Tensor: id=664, shape=(5, 3), dtype=int32, numpy=\n",
              "array([[0, 0, 0],\n",
              "       [0, 0, 1],\n",
              "       [0, 1, 1],\n",
              "       [0, 0, 0],\n",
              "       [0, 1, 0]], dtype=int32)>"
            ]
          },
          "metadata": {
            "tags": []
          },
          "execution_count": 38
        }
      ]
    },
    {
      "cell_type": "markdown",
      "metadata": {
        "id": "DJjldhGBHm55",
        "colab_type": "text"
      },
      "source": [
        "When we sample, we hardly see the difference...\n",
        "\n",
        "But computing the density is quite different!"
      ]
    },
    {
      "cell_type": "code",
      "metadata": {
        "id": "VD8vH5nhHesf",
        "colab_type": "code",
        "outputId": "ad5bf9b9-f1cd-4d0c-8f2b-5b5f346906c1",
        "colab": {
          "base_uri": "https://localhost:8080/",
          "height": 34
        }
      },
      "source": [
        "multiple_Bernoullis.prob([0,0,1])"
      ],
      "execution_count": 0,
      "outputs": [
        {
          "output_type": "execute_result",
          "data": {
            "text/plain": [
              "<tf.Tensor: id=678, shape=(3,), dtype=float32, numpy=array([0.7, 0.5, 0.7], dtype=float32)>"
            ]
          },
          "metadata": {
            "tags": []
          },
          "execution_count": 39
        }
      ]
    },
    {
      "cell_type": "code",
      "metadata": {
        "id": "iBtkP-OsHyDg",
        "colab_type": "code",
        "outputId": "2011a197-65fa-4fb9-e0f8-0826022d47fe",
        "colab": {
          "base_uri": "https://localhost:8080/",
          "height": 34
        }
      },
      "source": [
        "prod_multiple_Bernoullis.prob([0,0,1])"
      ],
      "execution_count": 0,
      "outputs": [
        {
          "output_type": "execute_result",
          "data": {
            "text/plain": [
              "<tf.Tensor: id=694, shape=(), dtype=float32, numpy=0.24500002>"
            ]
          },
          "metadata": {
            "tags": []
          },
          "execution_count": 40
        }
      ]
    },
    {
      "cell_type": "markdown",
      "metadata": {
        "id": "A3DrRDmBH2xn",
        "colab_type": "text"
      },
      "source": [
        "What's the difference? How are these results related?"
      ]
    },
    {
      "cell_type": "markdown",
      "metadata": {
        "id": "8wwyH1DoH-pS",
        "colab_type": "text"
      },
      "source": [
        "For more details on this, see [this tutorial](https://github.com/tensorflow/probability/blob/master/tensorflow_probability/examples/jupyter_notebooks/TensorFlow_Distributions_Tutorial.ipynb) (that I used to write mine), or [this one](https://github.com/tensorflow/probability/blob/master/tensorflow_probability/examples/jupyter_notebooks/Understanding_TensorFlow_Distributions_Shapes.ipynb) (that is more about the different shapes)."
      ]
    }
  ]
}
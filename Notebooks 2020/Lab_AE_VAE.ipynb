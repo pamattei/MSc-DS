{
  "nbformat": 4,
  "nbformat_minor": 0,
  "metadata": {
    "colab": {
      "name": "Lab_AE_VAE.ipynb",
      "provenance": []
    },
    "kernelspec": {
      "name": "python3",
      "display_name": "Python 3"
    },
    "accelerator": "GPU"
  },
  "cells": [
    {
      "cell_type": "markdown",
      "metadata": {
        "id": "3tyYDKlcqkBE"
      },
      "source": [
        "# AE/VAE on binarised MNIST"
      ]
    },
    {
      "cell_type": "markdown",
      "metadata": {
        "id": "9B30ONxejRn-"
      },
      "source": [
        "In this tutorial, we'll play a bit with a binarised version of MNIST. We'll train an autoencoder on it and a variational autoencoder."
      ]
    },
    {
      "cell_type": "markdown",
      "metadata": {
        "id": "z3sguCcpg2Yw"
      },
      "source": [
        "# Loading useful stuff"
      ]
    },
    {
      "cell_type": "code",
      "metadata": {
        "id": "MPwsirHNgywB"
      },
      "source": [
        "try:\n",
        "  # %tensorflow_version only exists in Colab.\n",
        "  %tensorflow_version 2.x\n",
        "except Exception:\n",
        "  pass"
      ],
      "execution_count": null,
      "outputs": []
    },
    {
      "cell_type": "code",
      "metadata": {
        "id": "xMPYV_R2ghyx"
      },
      "source": [
        "import numpy as np\n",
        "import tensorflow as tf\n",
        "import matplotlib.pyplot as plt\n",
        "import tensorflow_probability as tfp\n",
        "\n",
        "tfk = tf.keras\n",
        "tfkl = tf.keras.layers\n",
        "tfd = tfp.distributions"
      ],
      "execution_count": null,
      "outputs": []
    },
    {
      "cell_type": "markdown",
      "metadata": {
        "id": "h58v-MfihGen"
      },
      "source": [
        "# Loading MNIST and binarising it"
      ]
    },
    {
      "cell_type": "code",
      "metadata": {
        "id": "1sTryqQpguSj"
      },
      "source": [
        "(train_images_nonbinary, y_train), (test_images_nonbinary,  y_test) = tf.keras.datasets.mnist.load_data()\n",
        "\n",
        "train_images_nonbinary = train_images_nonbinary.reshape(train_images_nonbinary.shape[0], 28*28)\n",
        "test_images_nonbinary = test_images_nonbinary.reshape(test_images_nonbinary.shape[0], 28*28)\n",
        "\n",
        "y_train = tf.cast(y_train, tf.int32)\n",
        "y_test =tf.cast(y_test, tf.int32)"
      ],
      "execution_count": null,
      "outputs": []
    },
    {
      "cell_type": "code",
      "metadata": {
        "id": "xP-RnOcwjIUK",
        "outputId": "b118bbb2-1c69-43ed-b938-84aa726d8c5f",
        "colab": {
          "base_uri": "https://localhost:8080/",
          "height": 248
        }
      },
      "source": [
        "plt.imshow(train_images_nonbinary[0, :].reshape((28,28)), cmap='gray')\n",
        "plt.axis('off')\n",
        "plt.show()"
      ],
      "execution_count": null,
      "outputs": [
        {
          "output_type": "display_data",
          "data": {
            "image/png": "[encoded data removed]",
            "text/plain": [
              "<Figure size 432x288 with 1 Axes>"
            ]
          },
          "metadata": {
            "tags": [],
            "needs_background": "light"
          }
        }
      ]
    },
    {
      "cell_type": "markdown",
      "metadata": {
        "id": "6JaPwhRdhI8s"
      },
      "source": [
        "Then we binarise the data. There are many ways to do that. Here, we simply round the numbers, following the [TF tutorial on convolutional VAEs](https://www.tensorflow.org/tutorials/generative/cvae)."
      ]
    },
    {
      "cell_type": "code",
      "metadata": {
        "id": "UyIpmbV8g4d3"
      },
      "source": [
        "# Normalizing the images to the range of [0., 1.]\n",
        "train_images = train_images_nonbinary/255.\n",
        "test_images = test_images_nonbinary/255.\n",
        "\n",
        "# Binarization\n",
        "train_images[train_images >= .5] = 1.\n",
        "train_images[train_images < .5] = 0.\n",
        "test_images[test_images >= .5] = 1.\n",
        "test_images[test_images < .5] = 0.\n",
        "\n",
        "train_images = tf.cast(train_images, tf.float32)\n",
        "test_images = tf.cast(train_images, tf.float32)\n",
        "\n"
      ],
      "execution_count": null,
      "outputs": []
    },
    {
      "cell_type": "code",
      "metadata": {
        "id": "s8pOg8LNg7p2",
        "outputId": "6283a153-9cf0-48be-e20b-db6f837724d3",
        "colab": {
          "base_uri": "https://localhost:8080/",
          "height": 248
        }
      },
      "source": [
        "plt.imshow(train_images[0, :].numpy().reshape((28,28)), cmap='gray')\n",
        "plt.axis('off')\n",
        "plt.show()"
      ],
      "execution_count": null,
      "outputs": [
        {
          "output_type": "display_data",
          "data": {
            "image/png": "[encoded data removed]",
            "text/plain": [
              "<Figure size 432x288 with 1 Axes>"
            ]
          },
          "metadata": {
            "tags": [],
            "needs_background": "light"
          }
        }
      ]
    },
    {
      "cell_type": "code",
      "metadata": {
        "id": "lglEtUoJ5bIX"
      },
      "source": [
        "train_dataset = tf.data.Dataset.from_tensor_slices((train_images,y_train)).shuffle(60000).batch(32) # TF creates the batches for us"
      ],
      "execution_count": null,
      "outputs": []
    },
    {
      "cell_type": "markdown",
      "metadata": {
        "id": "Ukx-euwihWT0"
      },
      "source": [
        "## Regular Auto-Encoder"
      ]
    },
    {
      "cell_type": "markdown",
      "metadata": {
        "id": "nqCIj_dXjv-o"
      },
      "source": [
        "Let us start with a regular auto-encoder. We want to encode (or compress) the data into a low-dimensional embedding.\n",
        "\n",
        "\n",
        "*   The low-dimensional subspace $\\mathbb{R}^d$ is the **code space**.\n",
        "\n",
        "*   The decoder is a function $$\\text{Decoder}_{\\theta_{decoder}} : \\mathbb{R}^d \\longrightarrow [0,1]^{28 \\times 28}$$ that will transform low-dimensional codes into distributions over images.\n",
        "\n",
        "*   Conversely, the encoder is a function $$\\text{Encoder}_{\\theta_{encoder}} : \\{0,1\\}^{28 \\times 28} \\longrightarrow \\mathbb{R}^d$$ that will encode the images in low-dimensional space.\n",
        "\n",
        "* Both functions are parametrised by (deep) neural nets whose weigths are stored in $\\theta_{decoder}$ and $\\theta_{encoder}$.\n",
        "\n",
        "\n",
        "\n",
        "\n",
        "\n",
        "\n",
        "\n",
        "\n",
        "\n",
        "\n"
      ]
    },
    {
      "cell_type": "markdown",
      "metadata": {
        "id": "t5cOzLSCOtOy"
      },
      "source": [
        " The loss function is the **average reconstruction error**:\n",
        "\n",
        "$$\\ell_{AE}(\\theta_{encoder},\\theta_{decoder}) = \\sum_{i=1}^n \\text{Xentropy}(x_i,\\text{Decoder}_{\\theta_{decoder}}(\\text{Encoder}_{\\theta_{encoder}}(x_i)).$$\n",
        "\n",
        "Indeed, we want to be able to **reconstruct (approximately) the original data using only the low-dimensional embeddings**."
      ]
    },
    {
      "cell_type": "code",
      "metadata": {
        "id": "JO7T-0Uijvbq"
      },
      "source": [
        "h = 200 # number of hidden units\n",
        "sigma = \"relu\" # activation function\n",
        "d = 2\n",
        "\n",
        "encoder = tfk.Sequential([\n",
        "  tfkl.InputLayer(input_shape=[28*28,]),\n",
        "  tfkl.Dense(h, activation=sigma),\n",
        "  tfkl.Dense(h, activation=sigma),\n",
        "  tfkl.Dense(d),\n",
        "])"
      ],
      "execution_count": null,
      "outputs": []
    },
    {
      "cell_type": "code",
      "metadata": {
        "id": "V4FsRuTOVNSS"
      },
      "source": [
        "decoder = tfk.Sequential([\n",
        "  tfkl.InputLayer(input_shape=[d,]),\n",
        "  tfkl.Dense(h, activation=sigma),\n",
        "  tfkl.Dense(h, activation=sigma),\n",
        "  tfkl.Dense(28*28), # I don't use a sigmoid here because TF will use it inside tf.nn.sigmoid_cross_entropy_with_logits\n",
        "])"
      ],
      "execution_count": null,
      "outputs": []
    },
    {
      "cell_type": "code",
      "metadata": {
        "id": "v8i_fYDMrftq"
      },
      "source": [
        "@tf.function\n",
        "def reconstruction_error(data):\n",
        "  reconstruction_parameters = decoder(encoder(data))\n",
        "  reconstruction_errors = tf.nn.sigmoid_cross_entropy_with_logits(labels = data, logits = reconstruction_parameters)\n",
        "  return tf.reduce_mean(reconstruction_errors)"
      ],
      "execution_count": null,
      "outputs": []
    },
    {
      "cell_type": "code",
      "metadata": {
        "id": "TDEryxresksx"
      },
      "source": [
        "optimizer = tf.keras.optimizers.Adam(learning_rate=0.001)\n",
        "theta_ae = encoder.trainable_variables + decoder.trainable_variables"
      ],
      "execution_count": null,
      "outputs": []
    },
    {
      "cell_type": "code",
      "metadata": {
        "id": "trlwRBjU5DTo"
      },
      "source": [
        "@tf.function\n",
        "def train_step_ae(data):\n",
        "  with tf.GradientTape() as tape: # the gradient tape saves all the step that needs to be saved fopr automatic differentiation\n",
        "    loss = reconstruction_error(data)  # the loss is the average reconstruction error (cross-entropy)\n",
        "  gradients = tape.gradient(loss, theta_ae)  # here, the gradient is automatically computed\n",
        "  optimizer.apply_gradients(zip(gradients, theta_ae))  # Adam iteration"
      ],
      "execution_count": null,
      "outputs": []
    },
    {
      "cell_type": "code",
      "metadata": {
        "id": "Zrir2CzgsXLY",
        "outputId": "4038a517-23c9-46d2-c898-6df1fcbb8277",
        "colab": {
          "base_uri": "https://localhost:8080/",
          "height": 221
        }
      },
      "source": [
        "EPOCHS = 15\n",
        "\n",
        "for epoch in range(1,EPOCHS+1):\n",
        "  for images, labels in train_dataset:\n",
        "    train_step_ae(images) # Adam iteration\n",
        "  train_error = reconstruction_error(train_images)\n",
        "  test_error = reconstruction_error(test_images)\n",
        "  if (epoch % 5) == 1:\n",
        "    print('Epoch  %g' %epoch)\n",
        "    print('Train reconstruction error  %g' %train_error.numpy())\n",
        "    print('Test reconstruction error  %g' %test_error.numpy())\n",
        "    print('-----------')"
      ],
      "execution_count": null,
      "outputs": [
        {
          "output_type": "stream",
          "text": [
            "Epoch  1\n",
            "Train reconstruction error  0.192001\n",
            "Test reconstruction error  0.192001\n",
            "-----------\n",
            "Epoch  6\n",
            "Train reconstruction error  0.171381\n",
            "Test reconstruction error  0.171381\n",
            "-----------\n",
            "Epoch  11\n",
            "Train reconstruction error  0.166163\n",
            "Test reconstruction error  0.166163\n",
            "-----------\n"
          ],
          "name": "stdout"
        }
      ]
    },
    {
      "cell_type": "markdown",
      "metadata": {
        "id": "qwmwVInJThdu"
      },
      "source": [
        "Let's look at the faitfulness of the reconstructions:"
      ]
    },
    {
      "cell_type": "code",
      "metadata": {
        "id": "qWlprhE8sqtS",
        "outputId": "a9e42a1e-a785-4490-9ccf-4179fede90fb",
        "colab": {
          "base_uri": "https://localhost:8080/",
          "height": 248
        }
      },
      "source": [
        "plt.imshow(train_images[1:2, :].numpy().reshape((28,28)), cmap='gray')\n",
        "plt.axis('off')\n",
        "plt.show()"
      ],
      "execution_count": null,
      "outputs": [
        {
          "output_type": "display_data",
          "data": {
            "image/png": "[encoded data removed]",
            "text/plain": [
              "<Figure size 432x288 with 1 Axes>"
            ]
          },
          "metadata": {
            "tags": [],
            "needs_background": "light"
          }
        }
      ]
    },
    {
      "cell_type": "code",
      "metadata": {
        "id": "gfL1Ua8JARrh",
        "outputId": "4bc9fb0a-5c56-4876-dd34-a62e0a16b4ea",
        "colab": {
          "base_uri": "https://localhost:8080/",
          "height": 248
        }
      },
      "source": [
        "plt.imshow((decoder(encoder(train_images[1:2, :])).numpy().reshape((28,28))>0.5), cmap='gray')\n",
        "plt.axis('off')\n",
        "plt.show()"
      ],
      "execution_count": null,
      "outputs": [
        {
          "output_type": "display_data",
          "data": {
            "image/png": "[encoded data removed]",
            "text/plain": [
              "<Figure size 432x288 with 1 Axes>"
            ]
          },
          "metadata": {
            "tags": [],
            "needs_background": "light"
          }
        }
      ]
    },
    {
      "cell_type": "markdown",
      "metadata": {
        "id": "wDdheQApPeec"
      },
      "source": [
        "Questions:\n",
        "\n",
        "\n",
        "1. Write down the mathematical formulas for the encoder and decoder defined via Keras.\n",
        "2.   Does the decoder output binary or continuous images? Would it be possible to change that?\n",
        "3.   Try to plot the low-dimensional representation.\n",
        "\n"
      ]
    },
    {
      "cell_type": "markdown",
      "metadata": {
        "id": "CYoHDDwWP19L"
      },
      "source": [
        "**This simple auto-encoder is not a probabilistic model! A VAE is a probabilistic version of it that allows to also sample new \"fake\" images (among many other applications).**"
      ]
    },
    {
      "cell_type": "markdown",
      "metadata": {
        "id": "i1pPoLI6jlKI"
      },
      "source": [
        "# Simple generative modelling"
      ]
    },
    {
      "cell_type": "markdown",
      "metadata": {
        "id": "SfHdx_pdQocD"
      },
      "source": [
        "Before training a VAE, we start with a very dumb generative model as an appetizer."
      ]
    },
    {
      "cell_type": "markdown",
      "metadata": {
        "id": "sKb773pujpvx"
      },
      "source": [
        "We build here a **super simple** generative model for the data set. Specifically, the model is simply a product of Bernoulli distributions:\n",
        "$$p (\\textbf{x}) = \\prod_{j = 1}^{28 \\times 28} \\mathcal{B}(x_j|\\pi_j).$$"
      ]
    },
    {
      "cell_type": "markdown",
      "metadata": {
        "id": "lTLh2xtFkqzA"
      },
      "source": [
        "Training can simply be done by computing the means of all the pixels independently:"
      ]
    },
    {
      "cell_type": "code",
      "metadata": {
        "id": "KUtIAt3nlhgC"
      },
      "source": [
        "pis_bern = train_images.numpy().mean(0) "
      ],
      "execution_count": null,
      "outputs": []
    },
    {
      "cell_type": "code",
      "metadata": {
        "id": "jKeaKSYIltiB"
      },
      "source": [
        "prod_of_bernoullis =  tfd.Independent(distribution  = tfd.Bernoulli(probs = pis_bern), reinterpreted_batch_ndims = 1)"
      ],
      "execution_count": null,
      "outputs": []
    },
    {
      "cell_type": "code",
      "metadata": {
        "id": "iJILKmwriDNG",
        "outputId": "238ea6ed-df8d-4cea-9829-ac2565e637e9",
        "colab": {
          "base_uri": "https://localhost:8080/",
          "height": 248
        }
      },
      "source": [
        "sample_pofbern = tf.reshape(prod_of_bernoullis.sample(1),(28,28))\n",
        "plt.imshow(sample_pofbern, cmap='gray')\n",
        "plt.axis('off')\n",
        "plt.show()"
      ],
      "execution_count": null,
      "outputs": [
        {
          "output_type": "display_data",
          "data": {
            "image/png": "[encoded data removed]",
            "text/plain": [
              "<Figure size 432x288 with 1 Axes>"
            ]
          },
          "metadata": {
            "tags": [],
            "needs_background": "light"
          }
        }
      ]
    },
    {
      "cell_type": "markdown",
      "metadata": {
        "id": "CVFrfB03RKcd"
      },
      "source": [
        "Why is this clearly a pretty bad model?"
      ]
    },
    {
      "cell_type": "markdown",
      "metadata": {
        "id": "EyDKnZgGpbVZ"
      },
      "source": [
        "We usually assess the quality of such generative models by computing the **test log-likelihood**. Here, we can do that easily because the model is simple:"
      ]
    },
    {
      "cell_type": "code",
      "metadata": {
        "id": "kLYwDGrUl77G",
        "outputId": "640927e0-8085-4423-a984-617bea71a2c0",
        "colab": {
          "base_uri": "https://localhost:8080/",
          "height": 34
        }
      },
      "source": [
        "tf.reduce_mean(prod_of_bernoullis.log_prob(test_images)).numpy()"
      ],
      "execution_count": null,
      "outputs": [
        {
          "output_type": "execute_result",
          "data": {
            "text/plain": [
              "-206.04297"
            ]
          },
          "metadata": {
            "tags": []
          },
          "execution_count": 131
        }
      ]
    },
    {
      "cell_type": "markdown",
      "metadata": {
        "id": "tnj_Px1kpu8n"
      },
      "source": [
        "The state of the art for binarised versions of MNIST is around -75, which is much higher than that! Using a VAE (or an IWAE), we'll try to close the gap a bit!"
      ]
    },
    {
      "cell_type": "markdown",
      "metadata": {
        "id": "ZeXYPIjFTQeT"
      },
      "source": [
        "# VAE: defining a deep latent variable model and its inference network"
      ]
    },
    {
      "cell_type": "markdown",
      "metadata": {
        "id": "0YMTygyEqKek"
      },
      "source": [
        "We will use a **deep latent variable model with a Gaussian prior and a Bernoulli observation model**. This can be written:\n",
        "\n",
        "$$p_{\\boldsymbol{\\theta}}(\\mathbf{x}_1,...,\\mathbf{x}_n) = \\prod_{i=1}^n p(\\mathbf{x}_i|\\mathbf{z}_i)p(\\mathbf{z}_i),$$\n",
        "$$p(\\mathbf{z}_i) = \\mathcal{N}(\\mathbf{z}_i|\\mathbf{0}_d,\\mathbf{I}_d), $$\n",
        "$$p_{\\boldsymbol{\\theta}}(\\mathbf{x}_i|\\mathbf{z}_i) = \\mathcal{B} (\\mathbf{x}_i|\\boldsymbol{\\pi}_{\\boldsymbol{\\theta}}(\\mathbf{z}_i)),$$\n",
        "\n",
        "where $\\boldsymbol{\\pi}_{\\boldsymbol{\\theta}}: \\mathbb{R}^d \\rightarrow [0,1]^p$ is a function (called the **decoder**) parametrised by a deep neural net."
      ]
    },
    {
      "cell_type": "code",
      "metadata": {
        "id": "wGQPPSexqQ7E"
      },
      "source": [
        "d = 2 # dimension of the latent space\n",
        "\n",
        "p_z = tfd.Independent(tfd.Normal(loc = tf.zeros(d, tf.float32), scale = tf.ones(d, tf.float32)),reinterpreted_batch_ndims=1)  # that's the prior"
      ],
      "execution_count": null,
      "outputs": []
    },
    {
      "cell_type": "code",
      "metadata": {
        "id": "H8Tv17Q_U883"
      },
      "source": [
        "h = 200 # number of hidden units\n",
        "sigma = \"relu\" # activation function\n",
        "\n",
        "decoder_vae = tfk.Sequential([\n",
        "  tfkl.InputLayer(input_shape=[d,]),\n",
        "  tfkl.Dense(h, activation=sigma),\n",
        "  tfkl.Dense(h, activation=sigma),\n",
        "  tfkl.Dense(28*28), # No need to use the logistic to ensure that the output is in [0,1] here, it will be done later\n",
        "])"
      ],
      "execution_count": null,
      "outputs": []
    },
    {
      "cell_type": "markdown",
      "metadata": {
        "id": "EVnYPGF-qf3t"
      },
      "source": [
        "To be able to train our model, we will need an **encoder** (aka **inference network**), that will allow us to approximate the intractable posterior $p(\\mathbf{z}|\\mathbf{x})$.\n",
        "The approximate posterior is defined as follows\n",
        "$$ q(\\mathbf{z}|\\mathbf{x}) = \\mathcal{N}(\\mathbf{z} | \\mathbf{m}_\\boldsymbol{\\gamma} ( \\mathbf{x} ), \\text{Diag}(\\mathbf{s}_\\boldsymbol{\\gamma} ( \\mathbf{x} )),\n",
        "$$ \n",
        "where $\\mathbf{x} \\mapsto (\\mathbf{m}_\\boldsymbol{\\gamma} ( \\mathbf{x} ), \\mathbf{s}_\\boldsymbol{\\gamma} ( \\mathbf{x} ))$ is a function from the data space (i.e. $\\{0,1\\}^p$) to $\\mathbb{R}^d \\times [0, \\infty[^d$ parametrised by a deep neural network. In other words, the encoder outputs the mean and the diagonal of the covariance matrix of the approximate posterior $q(\\mathbf{z}|\\mathbf{x})$."
      ]
    },
    {
      "cell_type": "code",
      "metadata": {
        "id": "B6mC83FtU8_j"
      },
      "source": [
        "encoder_vae = tfk.Sequential([\n",
        "  tfkl.InputLayer(input_shape=[28*28,]),\n",
        "  tfkl.Dense(h, activation=sigma),\n",
        "  tfkl.Dense(h, activation=sigma),\n",
        " # tfkl.Dense(???), What should we put here ?\n",
        "])"
      ],
      "execution_count": null,
      "outputs": []
    },
    {
      "cell_type": "markdown",
      "metadata": {
        "id": "lrfR3gnpuaYT"
      },
      "source": [
        "# Sampling from the deep generative model"
      ]
    },
    {
      "cell_type": "markdown",
      "metadata": {
        "id": "Kgh2YuNpudlB"
      },
      "source": [
        "Before we train it, let's look at some samples from the model."
      ]
    },
    {
      "cell_type": "code",
      "metadata": {
        "id": "5V9ts94uuhaj"
      },
      "source": [
        "@tf.function\n",
        "def vae_sample(num_samples):\n",
        "  codes = p_z.sample(num_samples)\n",
        "  out_decoder = decoder_vae(codes)\n",
        "  p_xgivenz = tfd.Independent(tfd.Bernoulli(out_decoder), reinterpreted_batch_ndims = 1)\n",
        "  return p_xgivenz.sample(1)"
      ],
      "execution_count": null,
      "outputs": []
    },
    {
      "cell_type": "code",
      "metadata": {
        "id": "v4pzrcv0ukhP",
        "outputId": "d0e2ffc5-16c4-40c9-fe73-ee2dc3c1cc2b",
        "colab": {
          "base_uri": "https://localhost:8080/",
          "height": 248
        }
      },
      "source": [
        "plt.imshow(vae_sample(1).numpy().reshape((28,28)), cmap='gray')\n",
        "plt.axis('off')\n",
        "plt.show()"
      ],
      "execution_count": null,
      "outputs": [
        {
          "output_type": "display_data",
          "data": {
            "image/png": "[encoded data removed]",
            "text/plain": [
              "<Figure size 432x288 with 1 Axes>"
            ]
          },
          "metadata": {
            "tags": [],
            "needs_background": "light"
          }
        }
      ]
    },
    {
      "cell_type": "markdown",
      "metadata": {
        "id": "S845ndpbuq7V"
      },
      "source": [
        "They look really bad... But we haven't started training yet!"
      ]
    },
    {
      "cell_type": "markdown",
      "metadata": {
        "id": "cTUCa8GsrjGL"
      },
      "source": [
        "# Training a VAE"
      ]
    },
    {
      "cell_type": "markdown",
      "metadata": {
        "id": "OIk8z8YXrniP"
      },
      "source": [
        "The **VAE objective** is defined as\n",
        "$$\n",
        "\\mathcal{L}_1 (\\boldsymbol{\\theta,\\gamma}) = \\sum_{i=1}^n \\mathbb{E}_{\\mathbf{z} \\sim q_{\\boldsymbol{\\gamma}}(\\mathbf{z}|\\mathbf{x}_i)} \\left[ \\log\\frac{p_{\\boldsymbol{\\theta}}(\\mathbf{x}_i|\\mathbf{z})p(\\mathbf{z})}{q_{\\boldsymbol{\\gamma}}(\\mathbf{z}|\\mathbf{x}_i)} \\right].\n",
        "$$\n",
        "\n",
        "It is a lower bound of the likelihood of the deep latent variable model. Rather than the intractable likelihood, we'll **maximise this bound**."
      ]
    },
    {
      "cell_type": "markdown",
      "metadata": {
        "id": "6QXxdx59rviy"
      },
      "source": [
        "To see more clearly the neural nets inside the objective, we may rewrite it as:\n",
        "$$\n",
        "\\mathcal{L}_1 (\\boldsymbol{\\theta,\\gamma}) = \\sum_{i=1}^n \\mathbb{E}_{\\mathbf{z} \\sim \\mathcal{N}(\\mathbf{z} | \\mathbf{m}_\\boldsymbol{\\gamma} ( \\mathbf{x}_i ), \\text{Diag}(\\mathbf{s}_\\boldsymbol{\\gamma} ( \\mathbf{x}_i ))} \\left[ \\log\\frac{\\mathcal{B} (\\mathbf{x}_i|\\boldsymbol{\\pi}_{\\boldsymbol{\\theta}}(\\mathbf{z}))\\mathcal{N}(\\mathbf{z}|\\mathbf{0}_d,\\mathbf{I}_d)}{\\mathcal{N}(\\mathbf{z} | \\mathbf{m}_\\boldsymbol{\\gamma} ( \\mathbf{x}_i ), \\text{Diag}(\\mathbf{s}_\\boldsymbol{\\gamma} ( \\mathbf{x}_i ))} \\right].\n",
        "$$"
      ]
    },
    {
      "cell_type": "markdown",
      "metadata": {
        "id": "_gbLKHGUryWT"
      },
      "source": [
        "**Create a TF function that computes an unbiased estimate of it!** (using a single sample from the approximate posterior)\n",
        "\n",
        "A good way to go is to follow these steps, for all $\\mathbf{x}_i$ in your batch:\n",
        "\n",
        "\n",
        "*   Encode the batch fo data points, to get the $\\mathbf{m}_\\boldsymbol{\\gamma} ( \\mathbf{x}_i ), \\text{Diag}(\\mathbf{s}_\\boldsymbol{\\gamma} ( \\mathbf{x}_i ))$ \n",
        "*   Use these encoder outputs to define $q_{\\boldsymbol{\\gamma}}(\\mathbf{z}|\\mathbf{x}_i)$ as a TF probability distribution\n",
        "*   Take one sample $\\mathbf{z}_i$ from $q_{\\boldsymbol{\\gamma}}(\\mathbf{z}|\\mathbf{x}_i)$, and use it to:\n",
        "  *   Compute $\\mathcal{B} (\\mathbf{x}_i|\\boldsymbol{\\pi}_{\\boldsymbol{\\theta}}(\\mathbf{z}_i))$ by decoding $\\mathbf{z}_i$\n",
        "  *   Compute the rest of the log of $p(\\mathbf{z}_i)$ and $q_{\\boldsymbol{\\gamma}}(\\mathbf{z}_i|\\mathbf{x}_i)$ using the $\\texttt{.logprob}$ method from TF probability.\n",
        "\n",
        "\n",
        "\n",
        "\n"
      ]
    },
    {
      "cell_type": "code",
      "metadata": {
        "id": "QF-ewKECuTsm"
      },
      "source": [
        ""
      ],
      "execution_count": null,
      "outputs": []
    },
    {
      "cell_type": "code",
      "metadata": {
        "id": "9H-wt885wVZj"
      },
      "source": [
        ""
      ],
      "execution_count": null,
      "outputs": []
    }
  ]
}
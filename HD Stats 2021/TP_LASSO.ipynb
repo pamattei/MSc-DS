{
  "nbformat": 4,
  "nbformat_minor": 0,
  "metadata": {
    "colab": {
      "name": "TP_LASSO.ipynb",
      "provenance": []
    },
    "kernelspec": {
      "name": "python3",
      "display_name": "Python 3"
    },
    "widgets": {
      "application/vnd.jupyter.widget-state+json": {
        "db753ff1681243fb9269790acd57d3a9": {
          "model_module": "@jupyter-widgets/controls",
          "model_name": "HBoxModel",
          "state": {
            "_view_name": "HBoxView",
            "_dom_classes": [],
            "_model_name": "HBoxModel",
            "_view_module": "@jupyter-widgets/controls",
            "_model_module_version": "1.5.0",
            "_view_count": null,
            "_view_module_version": "1.5.0",
            "box_style": "",
            "layout": "IPY_MODEL_cc0eeb48b7b14cf2803fbfaef233b51d",
            "_model_module": "@jupyter-widgets/controls",
            "children": [
              "IPY_MODEL_36227d5a4415464a9ff5cad59e0b6ca1",
              "IPY_MODEL_78301bbf521146258686764de35d06d3"
            ]
          }
        },
        "cc0eeb48b7b14cf2803fbfaef233b51d": {
          "model_module": "@jupyter-widgets/base",
          "model_name": "LayoutModel",
          "state": {
            "_view_name": "LayoutView",
            "grid_template_rows": null,
            "right": null,
            "justify_content": null,
            "_view_module": "@jupyter-widgets/base",
            "overflow": null,
            "_model_module_version": "1.2.0",
            "_view_count": null,
            "flex_flow": null,
            "width": null,
            "min_width": null,
            "border": null,
            "align_items": null,
            "bottom": null,
            "_model_module": "@jupyter-widgets/base",
            "top": null,
            "grid_column": null,
            "overflow_y": null,
            "overflow_x": null,
            "grid_auto_flow": null,
            "grid_area": null,
            "grid_template_columns": null,
            "flex": null,
            "_model_name": "LayoutModel",
            "justify_items": null,
            "grid_row": null,
            "max_height": null,
            "align_content": null,
            "visibility": null,
            "align_self": null,
            "height": null,
            "min_height": null,
            "padding": null,
            "grid_auto_rows": null,
            "grid_gap": null,
            "max_width": null,
            "order": null,
            "_view_module_version": "1.2.0",
            "grid_template_areas": null,
            "object_position": null,
            "object_fit": null,
            "grid_auto_columns": null,
            "margin": null,
            "display": null,
            "left": null
          }
        },
        "36227d5a4415464a9ff5cad59e0b6ca1": {
          "model_module": "@jupyter-widgets/controls",
          "model_name": "FloatProgressModel",
          "state": {
            "_view_name": "ProgressView",
            "style": "IPY_MODEL_1aef64a2def74ff487b64ecb7b113d42",
            "_dom_classes": [],
            "description": "100%",
            "_model_name": "FloatProgressModel",
            "bar_style": "success",
            "max": 20,
            "_view_module": "@jupyter-widgets/controls",
            "_model_module_version": "1.5.0",
            "value": 20,
            "_view_count": null,
            "_view_module_version": "1.5.0",
            "orientation": "horizontal",
            "min": 0,
            "description_tooltip": null,
            "_model_module": "@jupyter-widgets/controls",
            "layout": "IPY_MODEL_42432b4418ae4d2c9fa08862638b5746"
          }
        },
        "78301bbf521146258686764de35d06d3": {
          "model_module": "@jupyter-widgets/controls",
          "model_name": "HTMLModel",
          "state": {
            "_view_name": "HTMLView",
            "style": "IPY_MODEL_5280c1dbcf5f4ce5b5a9da335f225e37",
            "_dom_classes": [],
            "description": "",
            "_model_name": "HTMLModel",
            "placeholder": "​",
            "_view_module": "@jupyter-widgets/controls",
            "_model_module_version": "1.5.0",
            "value": " 20/20 [00:00&lt;00:00, 30.80it/s]",
            "_view_count": null,
            "_view_module_version": "1.5.0",
            "description_tooltip": null,
            "_model_module": "@jupyter-widgets/controls",
            "layout": "IPY_MODEL_09ab9ae19d06461aa34fdbedd643d129"
          }
        },
        "1aef64a2def74ff487b64ecb7b113d42": {
          "model_module": "@jupyter-widgets/controls",
          "model_name": "ProgressStyleModel",
          "state": {
            "_view_name": "StyleView",
            "_model_name": "ProgressStyleModel",
            "description_width": "initial",
            "_view_module": "@jupyter-widgets/base",
            "_model_module_version": "1.5.0",
            "_view_count": null,
            "_view_module_version": "1.2.0",
            "bar_color": null,
            "_model_module": "@jupyter-widgets/controls"
          }
        },
        "42432b4418ae4d2c9fa08862638b5746": {
          "model_module": "@jupyter-widgets/base",
          "model_name": "LayoutModel",
          "state": {
            "_view_name": "LayoutView",
            "grid_template_rows": null,
            "right": null,
            "justify_content": null,
            "_view_module": "@jupyter-widgets/base",
            "overflow": null,
            "_model_module_version": "1.2.0",
            "_view_count": null,
            "flex_flow": null,
            "width": null,
            "min_width": null,
            "border": null,
            "align_items": null,
            "bottom": null,
            "_model_module": "@jupyter-widgets/base",
            "top": null,
            "grid_column": null,
            "overflow_y": null,
            "overflow_x": null,
            "grid_auto_flow": null,
            "grid_area": null,
            "grid_template_columns": null,
            "flex": null,
            "_model_name": "LayoutModel",
            "justify_items": null,
            "grid_row": null,
            "max_height": null,
            "align_content": null,
            "visibility": null,
            "align_self": null,
            "height": null,
            "min_height": null,
            "padding": null,
            "grid_auto_rows": null,
            "grid_gap": null,
            "max_width": null,
            "order": null,
            "_view_module_version": "1.2.0",
            "grid_template_areas": null,
            "object_position": null,
            "object_fit": null,
            "grid_auto_columns": null,
            "margin": null,
            "display": null,
            "left": null
          }
        },
        "5280c1dbcf5f4ce5b5a9da335f225e37": {
          "model_module": "@jupyter-widgets/controls",
          "model_name": "DescriptionStyleModel",
          "state": {
            "_view_name": "StyleView",
            "_model_name": "DescriptionStyleModel",
            "description_width": "",
            "_view_module": "@jupyter-widgets/base",
            "_model_module_version": "1.5.0",
            "_view_count": null,
            "_view_module_version": "1.2.0",
            "_model_module": "@jupyter-widgets/controls"
          }
        },
        "09ab9ae19d06461aa34fdbedd643d129": {
          "model_module": "@jupyter-widgets/base",
          "model_name": "LayoutModel",
          "state": {
            "_view_name": "LayoutView",
            "grid_template_rows": null,
            "right": null,
            "justify_content": null,
            "_view_module": "@jupyter-widgets/base",
            "overflow": null,
            "_model_module_version": "1.2.0",
            "_view_count": null,
            "flex_flow": null,
            "width": null,
            "min_width": null,
            "border": null,
            "align_items": null,
            "bottom": null,
            "_model_module": "@jupyter-widgets/base",
            "top": null,
            "grid_column": null,
            "overflow_y": null,
            "overflow_x": null,
            "grid_auto_flow": null,
            "grid_area": null,
            "grid_template_columns": null,
            "flex": null,
            "_model_name": "LayoutModel",
            "justify_items": null,
            "grid_row": null,
            "max_height": null,
            "align_content": null,
            "visibility": null,
            "align_self": null,
            "height": null,
            "min_height": null,
            "padding": null,
            "grid_auto_rows": null,
            "grid_gap": null,
            "max_width": null,
            "order": null,
            "_view_module_version": "1.2.0",
            "grid_template_areas": null,
            "object_position": null,
            "object_fit": null,
            "grid_auto_columns": null,
            "margin": null,
            "display": null,
            "left": null
          }
        }
      }
    }
  },
  "cells": [
    {
      "cell_type": "code",
      "metadata": {
        "id": "H-s7xDC5O3Gm"
      },
      "source": [
        "import numpy as np\n",
        "import matplotlib.pyplot as plt\n",
        "import tqdm\n",
        "\n",
        "from sklearn.datasets import fetch_openml\n",
        "from sklearn.linear_model import LogisticRegression, LogisticRegressionCV \n",
        "\n",
        "from sklearn.model_selection import train_test_split\n",
        "from sklearn.metrics import log_loss"
      ],
      "execution_count": null,
      "outputs": []
    },
    {
      "cell_type": "markdown",
      "metadata": {
        "id": "-3IM34VVYYqJ"
      },
      "source": [
        "We will use the leukemia dataset. A dataset of genetic data, the goal is to classify the type of leukemia. In this dataset, p>>n, then it is natural to think of a LASSO type regularization to handle this dataset"
      ]
    },
    {
      "cell_type": "code",
      "metadata": {
        "colab": {
          "base_uri": "https://localhost:8080/"
        },
        "id": "qTL5gy8-P21a",
        "outputId": "9ec5c509-476c-4d5c-c4ca-76192c7ae8ec"
      },
      "source": [
        "print(\"Loading data...\")\n",
        "dataset = fetch_openml(\"leukemia\")\n",
        "\n",
        "X = dataset.data.astype(float)\n",
        "y = (dataset.target!='ALL').astype(int)\n",
        "print('Done !')\n",
        "print('n = {}, p = {}'.format(X.shape[0], X.shape[1]))"
      ],
      "execution_count": null,
      "outputs": [
        {
          "output_type": "stream",
          "text": [
            "Loading data...\n",
            "Done !\n",
            "n = 72, p = 7129\n"
          ],
          "name": "stdout"
        }
      ]
    },
    {
      "cell_type": "code",
      "metadata": {
        "colab": {
          "base_uri": "https://localhost:8080/"
        },
        "id": "EDR2ZC2VP9p6",
        "outputId": "7e65ec13-d05f-4207-d9f6-d0da64016073"
      },
      "source": [
        "X_train, X_test, y_train, y_test = train_test_split(X, y, test_size=0.5)\n",
        "print('Train: {}, Test: {}'.format(X_train.shape[0], X_test.shape[0]))"
      ],
      "execution_count": null,
      "outputs": [
        {
          "output_type": "stream",
          "text": [
            "Train; 36, Test: 36\n"
          ],
          "name": "stdout"
        }
      ]
    },
    {
      "cell_type": "markdown",
      "metadata": {
        "id": "jr1_6qBw3ggZ"
      },
      "source": [
        "# Classical Logistic regression\n",
        "Let's first try with a logistic regression. "
      ]
    },
    {
      "cell_type": "code",
      "metadata": {
        "colab": {
          "base_uri": "https://localhost:8080/"
        },
        "id": "ixk_SFYGQICm",
        "outputId": "076ff804-66da-4f86-f5e9-52b0e243d616"
      },
      "source": [
        "clf = LogisticRegression(penalty = 'none', solver = 'saga', max_iter=10000).fit(X_train, y_train)\n",
        "print('Accuracy train: {:.2f}%'.format(clf.score(X_train, y_train)*100))\n",
        "print('Accuracy test: {:.2f}%'.format(clf.score(X_test, y_test)*100))\n",
        "print('Nb coeffs > 0: ', np.sum(clf.coef_>0))\n",
        "print('Nb coeffs < 0: ', np.sum(clf.coef_<0))\n",
        "print('Nb coeffs = 0: ', np.sum(clf.coef_==0))"
      ],
      "execution_count": null,
      "outputs": [
        {
          "output_type": "stream",
          "text": [
            "Accuracy train: 100.00%\n",
            "Accuracy test: 94.44%\n",
            "Nb coeffs > 0:  3828\n",
            "Nb coeffs < 0:  3301\n",
            "Nb coeffs = 0:  0\n"
          ],
          "name": "stdout"
        }
      ]
    },
    {
      "cell_type": "markdown",
      "metadata": {
        "id": "bxD1X6t2ZIeh"
      },
      "source": [
        "Logistic Regression is great ! But all the features are used in the classification. It may be useful to select from these the one that are the most important, then we will try with a LASSO regularization."
      ]
    },
    {
      "cell_type": "markdown",
      "metadata": {
        "id": "cSKETQhX3mCs"
      },
      "source": [
        "# LASSO"
      ]
    },
    {
      "cell_type": "code",
      "metadata": {
        "colab": {
          "base_uri": "https://localhost:8080/"
        },
        "id": "2BSdV-cD24j-",
        "outputId": "63184c93-d43f-4140-9506-687a6a551895"
      },
      "source": [
        "clf = LogisticRegression(penalty = 'l1', solver = 'liblinear', C = 1, max_iter=10000 ).fit(X_train, y_train)\n",
        "print('Accuracy test: {:.2f}%'.format(clf.score(X_train, y_train)*100))\n",
        "print('Accuracy test: {:.2f}%'.format(clf.score(X_test, y_test)*100))\n",
        "print('Nb coeffs > 0: ', np.sum(clf.coef_>0))\n",
        "print('Nb coeffs < 0: ', np.sum(clf.coef_<0))\n",
        "print('Nb coeffs = 0: ', np.sum(clf.coef_==0))"
      ],
      "execution_count": null,
      "outputs": [
        {
          "output_type": "stream",
          "text": [
            "Accuracy test: 100.00%\n",
            "Accuracy test: 97.22%\n",
            "Nb coeffs > 0:  121\n",
            "Nb coeffs < 0:  115\n",
            "Nb coeffs = 0:  6893\n"
          ],
          "name": "stdout"
        }
      ]
    },
    {
      "cell_type": "markdown",
      "metadata": {
        "id": "YmCkSn8tZgJg"
      },
      "source": [
        "Lasso selects a few less parameters than a logistic regression without regularization. **Remark:** with a l1 regularization, you have to change for a liblinear solver (see doc). \n",
        "You can play around with the hyperparameters of the model to improve your results.\n",
        "\n",
        "\n",
        "[Here](https://scikit-learn.org/stable/modules/generated/sklearn.linear_model.LogisticRegression.html#sklearn.linear_model.LogisticRegression) is the doc for logistic regression."
      ]
    },
    {
      "cell_type": "markdown",
      "metadata": {
        "id": "clos2aWxV9ni"
      },
      "source": [
        "# Hyperparameters finetuning: Homemade\n",
        "\n",
        "The first simple idea to finetune automatically your hyperparameters is doing a grid search and using a validation set. Here we have only one hyperparameter, C.\n",
        "The metric we use if the binary cross entropy (= negative log likelihood)."
      ]
    },
    {
      "cell_type": "code",
      "metadata": {
        "colab": {
          "base_uri": "https://localhost:8080/",
          "height": 768,
          "referenced_widgets": [
            "db753ff1681243fb9269790acd57d3a9",
            "cc0eeb48b7b14cf2803fbfaef233b51d",
            "36227d5a4415464a9ff5cad59e0b6ca1",
            "78301bbf521146258686764de35d06d3",
            "1aef64a2def74ff487b64ecb7b113d42",
            "42432b4418ae4d2c9fa08862638b5746",
            "5280c1dbcf5f4ce5b5a9da335f225e37",
            "09ab9ae19d06461aa34fdbedd643d129"
          ]
        },
        "id": "NRIb9uND6kyZ",
        "outputId": "33db5ea8-0b47-44ab-d00b-cb14257d8a22"
      },
      "source": [
        "val_losses = []\n",
        "val_accs = []\n",
        "\n",
        "X_train_reduce, X_val, y_train_reduce, y_val = train_test_split(X_train, y_train, test_size=0.5)\n",
        "Cs = np.logspace(-4, 4, 20)\n",
        "\n",
        "for C in tqdm.tqdm_notebook(Cs):\n",
        "  clf = LogisticRegression(random_state=10, penalty = 'l1', solver = 'liblinear', C = C, max_iter=10000).fit(X_train_reduce, y_train_reduce)\n",
        "  val_losses.append(log_loss(y_val, clf.predict_proba(X_val)[:,1]))\n",
        "  val_accs.append(clf.score(X_val, y_val)*100)\n",
        "\n",
        "\n",
        "plt.figure()\n",
        "plt.plot(Cs, val_losses)\n",
        "plt.xscale('log')\n",
        "plt.xlabel('Regularization strength')\n",
        "plt.ylabel('Negative log likelihood')\n",
        "plt.show()\n",
        "\n",
        "plt.figure()\n",
        "plt.plot(Cs, val_accs)\n",
        "plt.xscale('log')\n",
        "plt.xlabel('Regularization strength')\n",
        "plt.ylabel('Accuracy')\n",
        "plt.show()\n",
        "\n",
        "print('===============TEST with finetuned hyperparameters===============')\n",
        "\n",
        "# Test:\n",
        "C = Cs[np.array(val_losses).argmin()]\n",
        "clf = LogisticRegression(random_state=10, penalty = 'l1', solver = 'liblinear', C = C, max_iter=10000).fit(X_train, y_train)\n",
        "print(\"Regularization strength selected: \",  Cs[np.array(val_losses).argmin()])\n",
        "print('Accuracy train: {:.2f}%'.format(clf.score(X_train, y_train)*100))\n",
        "print('Accuracy test: {:.2f}%'.format(clf.score(X_test, y_test)*100))\n",
        "print('Nb coeffs > 0: ', np.sum(clf.coef_>0))\n",
        "print('Nb coeffs < 0: ', np.sum(clf.coef_<0))\n",
        "print('Nb coeffs = 0: ', np.sum(clf.coef_==0))"
      ],
      "execution_count": null,
      "outputs": [
        {
          "output_type": "stream",
          "text": [
            "/usr/local/lib/python3.7/dist-packages/ipykernel_launcher.py:7: TqdmDeprecationWarning: This function will be removed in tqdm==5.0.0\n",
            "Please use `tqdm.notebook.tqdm` instead of `tqdm.tqdm_notebook`\n",
            "  import sys\n"
          ],
          "name": "stderr"
        },
        {
          "output_type": "display_data",
          "data": {
            "application/vnd.jupyter.widget-view+json": {
              "model_id": "db753ff1681243fb9269790acd57d3a9",
              "version_minor": 0,
              "version_major": 2
            },
            "text/plain": [
              "HBox(children=(FloatProgress(value=0.0, max=20.0), HTML(value='')))"
            ]
          },
          "metadata": {
            "tags": []
          }
        },
        {
          "output_type": "stream",
          "text": [
            "\n"
          ],
          "name": "stdout"
        },
        {
          "output_type": "display_data",
          "data": {
            "image/png": "[encoded data removed]",
            "text/plain": [
              "<Figure size 432x288 with 1 Axes>"
            ]
          },
          "metadata": {
            "tags": [],
            "needs_background": "light"
          }
        },
        {
          "output_type": "display_data",
          "data": {
            "image/png": "[encoded data removed]",
            "text/plain": [
              "<Figure size 432x288 with 1 Axes>"
            ]
          },
          "metadata": {
            "tags": [],
            "needs_background": "light"
          }
        },
        {
          "output_type": "stream",
          "text": [
            "===============TEST with finetuned hyperparameters===============\n",
            "Regularization strength selected:  78.47599703514607\n",
            "Accuracy train: 100.00%\n",
            "Accuracy test: 97.22%\n",
            "Nb coeffs > 0:  935\n",
            "Nb coeffs < 0:  875\n",
            "Nb coeffs = 0:  5319\n"
          ],
          "name": "stdout"
        }
      ]
    },
    {
      "cell_type": "markdown",
      "metadata": {
        "id": "Sx0qomem539B"
      },
      "source": [
        "# Hyperparameters finetuning: Cross validation\n",
        "\n",
        "Second simple way to finetune your hyperparameters is by doing grid_search and croos validation simultanously. See [link](https://scikit-learn.org/stable/modules/generated/sklearn.linear_model.LogisticRegressionCV.html#sklearn.linear_model.LogisticRegressionCV) for info."
      ]
    },
    {
      "cell_type": "code",
      "metadata": {
        "colab": {
          "base_uri": "https://localhost:8080/"
        },
        "id": "5dqbJUsEUSz6",
        "outputId": "2eb3d703-21a1-49c1-c061-b6f2bcb6d0f5"
      },
      "source": [
        "clf = LogisticRegressionCV(cv = 8, penalty = 'l1', solver = 'liblinear', Cs = np.logspace(-4,4,25), max_iter=10000)\n",
        "clf.fit(X_train, y_train)\n",
        "print(\"Regularization strength selected: \", clf.C_[0])\n",
        "print('Accuracy train: {:.2f}%'.format(clf.score(X_train, y_train)*100))\n",
        "print('Accuracy test: {:.2f}%'.format(clf.score(X_test, y_test)*100))\n",
        "print('Nb coeffs > 0: ', np.sum(clf.coef_>0))\n",
        "print('Nb coeffs < 0: ', np.sum(clf.coef_<0))\n",
        "print('Nb coeffs = 0: ', np.sum(clf.coef_==0))"
      ],
      "execution_count": null,
      "outputs": [
        {
          "output_type": "stream",
          "text": [
            "Regularization strength selected:  21.54434690031882\n",
            "Accuracy train: 100.00%\n",
            "Accuracy test: 97.22%\n",
            "Nb coeffs > 0:  676\n",
            "Nb coeffs < 0:  570\n",
            "Nb coeffs = 0:  5883\n"
          ],
          "name": "stdout"
        }
      ]
    },
    {
      "cell_type": "markdown",
      "metadata": {
        "id": "zwIq4DLrP5kn"
      },
      "source": [
        "#Assignement\n",
        "\n",
        "Repeat with elasticnet regularization and comment.\n",
        "\n",
        "\n"
      ]
    },
    {
      "cell_type": "code",
      "metadata": {
        "id": "bEgdFpp0PYnW"
      },
      "source": [
        ""
      ],
      "execution_count": null,
      "outputs": []
    },
    {
      "cell_type": "code",
      "metadata": {
        "id": "NLzhdQEDa0Ex"
      },
      "source": [
        ""
      ],
      "execution_count": null,
      "outputs": []
    },
    {
      "cell_type": "code",
      "metadata": {
        "id": "D9r3YNXTa0Hg"
      },
      "source": [
        ""
      ],
      "execution_count": null,
      "outputs": []
    },
    {
      "cell_type": "code",
      "metadata": {
        "id": "UzkybAUGa0K9"
      },
      "source": [
        ""
      ],
      "execution_count": null,
      "outputs": []
    }
  ]
}
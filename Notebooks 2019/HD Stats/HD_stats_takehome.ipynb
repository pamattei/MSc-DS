{
  "nbformat": 4,
  "nbformat_minor": 0,
  "metadata": {
    "kernelspec": {
      "display_name": "R",
      "language": "R",
      "name": "ir"
    },
    "language_info": {
      "codemirror_mode": "r",
      "file_extension": ".r",
      "mimetype": "text/x-r-source",
      "name": "R",
      "pygments_lexer": "r",
      "version": "3.3.1"
    },
    "colab": {
      "name": "HD_stats_takehome.ipynb",
      "provenance": []
    }
  },
  "cells": [
    {
      "cell_type": "markdown",
      "metadata": {
        "id": "xiraU-XstDly",
        "colab_type": "text"
      },
      "source": [
        "# MSc Data Science: HD Stats take-home exam: Part I, cookie fat content"
      ]
    },
    {
      "cell_type": "markdown",
      "metadata": {
        "id": "8Ojp0CnDtEaf",
        "colab_type": "text"
      },
      "source": [
        "**Take the cookie data set we've seen in class, and implement the elastic net using glmnet. Find some good hyperparameters using cross validation.**"
      ]
    },
    {
      "cell_type": "markdown",
      "metadata": {
        "id": "K0YfXBvDIIrj",
        "colab_type": "text"
      },
      "source": [
        "# MSc Data Science: HD Stats take-home exam: Part II, collaborative filtering"
      ]
    },
    {
      "cell_type": "markdown",
      "metadata": {
        "id": "wBFdGNTRwYUn",
        "colab_type": "text"
      },
      "source": [
        "First we install some packages"
      ]
    },
    {
      "cell_type": "code",
      "metadata": {
        "id": "RCY0A_W-GFW5",
        "colab_type": "code",
        "outputId": "659cb111-9a79-46e5-9900-c27766529649",
        "colab": {
          "base_uri": "https://localhost:8080/",
          "height": 119
        }
      },
      "source": [
        "install.packages(\"dslabs\")\n",
        "install.packages(\"softImpute\")"
      ],
      "execution_count": 1,
      "outputs": [
        {
          "output_type": "stream",
          "text": [
            "Installing package into ‘/usr/local/lib/R/site-library’\n",
            "(as ‘lib’ is unspecified)\n",
            "\n",
            "Installing package into ‘/usr/local/lib/R/site-library’\n",
            "(as ‘lib’ is unspecified)\n",
            "\n"
          ],
          "name": "stderr"
        }
      ]
    },
    {
      "cell_type": "code",
      "metadata": {
        "id": "22T7Wa-eGK6O",
        "colab_type": "code",
        "outputId": "abc463d2-5159-4da4-e234-d79be7edc8ef",
        "colab": {
          "base_uri": "https://localhost:8080/",
          "height": 102
        }
      },
      "source": [
        "library(\"dslabs\")\n",
        "library(\"softImpute\")\n",
        "library(\"Matrix\")"
      ],
      "execution_count": 2,
      "outputs": [
        {
          "output_type": "stream",
          "text": [
            "Loading required package: Matrix\n",
            "\n",
            "Loaded softImpute 1.4\n",
            "\n",
            "\n"
          ],
          "name": "stderr"
        }
      ]
    },
    {
      "cell_type": "markdown",
      "metadata": {
        "id": "s5f_zPJooYWf",
        "colab_type": "text"
      },
      "source": [
        "Now, we will launch the MovieLens data set, and remove the movies with no title:"
      ]
    },
    {
      "cell_type": "code",
      "metadata": {
        "id": "7yQtrm8AGRrR",
        "colab_type": "code",
        "colab": {}
      },
      "source": [
        "data(\"movielens\")\n",
        "movielens = na.omit(movielens) # to remove movies with no title"
      ],
      "execution_count": 0,
      "outputs": []
    },
    {
      "cell_type": "markdown",
      "metadata": {
        "id": "nEWG0Hc4opGe",
        "colab_type": "text"
      },
      "source": [
        "We create a vector of movie titles, and one of users IDs:"
      ]
    },
    {
      "cell_type": "code",
      "metadata": {
        "id": "RhebLWG-oeuQ",
        "colab_type": "code",
        "colab": {}
      },
      "source": [
        "users = movielens$userId\n",
        "movies_titles = as.factor(movielens$title)"
      ],
      "execution_count": 0,
      "outputs": []
    },
    {
      "cell_type": "code",
      "metadata": {
        "id": "mUTS7-hTovdA",
        "colab_type": "code",
        "colab": {
          "base_uri": "https://localhost:8080/",
          "height": 34
        },
        "outputId": "60004b9a-86d7-481c-e876-9bb34aa0482a"
      },
      "source": [
        "users[1:20]"
      ],
      "execution_count": 10,
      "outputs": [
        {
          "output_type": "display_data",
          "data": {
            "text/plain": [
              " [1] 1 1 1 1 1 1 1 1 1 1 1 1 1 1 1 1 1 1 1 1"
            ],
            "text/latex": "\\begin{enumerate*}\n\\item 1\n\\item 1\n\\item 1\n\\item 1\n\\item 1\n\\item 1\n\\item 1\n\\item 1\n\\item 1\n\\item 1\n\\item 1\n\\item 1\n\\item 1\n\\item 1\n\\item 1\n\\item 1\n\\item 1\n\\item 1\n\\item 1\n\\item 1\n\\end{enumerate*}\n",
            "text/markdown": "1. 1\n2. 1\n3. 1\n4. 1\n5. 1\n6. 1\n7. 1\n8. 1\n9. 1\n10. 1\n11. 1\n12. 1\n13. 1\n14. 1\n15. 1\n16. 1\n17. 1\n18. 1\n19. 1\n20. 1\n\n\n",
            "text/html": [
              "<style>\n",
              ".list-inline {list-style: none; margin:0; padding: 0}\n",
              ".list-inline>li {display: inline-block}\n",
              ".list-inline>li:not(:last-child)::after {content: \"\\00b7\"; padding: 0 .5ex}\n",
              "</style>\n",
              "<ol class=list-inline><li>1</li><li>1</li><li>1</li><li>1</li><li>1</li><li>1</li><li>1</li><li>1</li><li>1</li><li>1</li><li>1</li><li>1</li><li>1</li><li>1</li><li>1</li><li>1</li><li>1</li><li>1</li><li>1</li><li>1</li></ol>\n"
            ]
          },
          "metadata": {
            "tags": []
          }
        }
      ]
    },
    {
      "cell_type": "code",
      "metadata": {
        "id": "qhblPdBpox7J",
        "colab_type": "code",
        "colab": {
          "base_uri": "https://localhost:8080/",
          "height": 85
        },
        "outputId": "0b4331da-8086-4136-dfb4-6922b0224038"
      },
      "source": [
        "movies_titles[1:20]"
      ],
      "execution_count": 11,
      "outputs": [
        {
          "output_type": "display_data",
          "data": {
            "text/plain": [
              " [1] Dangerous Minds                        \n",
              " [2] Dumbo                                  \n",
              " [3] Sleepers                               \n",
              " [4] Escape from New York                   \n",
              " [5] Cinema Paradiso (Nuovo cinema Paradiso)\n",
              " [6] Deer Hunter, The                       \n",
              " [7] Ben-Hur                                \n",
              " [8] Gandhi                                 \n",
              " [9] Dracula (Bram Stoker's Dracula)        \n",
              "[10] Cape Fear                              \n",
              "[11] Star Trek: The Motion Picture          \n",
              "[12] Beavis and Butt-Head Do America        \n",
              "[13] French Connection, The                 \n",
              "[14] Tron                                   \n",
              "[15] Gods Must Be Crazy, The                \n",
              "[16] Willow                                 \n",
              "[17] Antz                                   \n",
              "[18] Fly, The                               \n",
              "[19] Time Bandits                           \n",
              "[20] Blazing Saddles                        \n",
              "8831 Levels: ¡Three Amigos! ...And God Spoke ... Zulu"
            ],
            "text/latex": "\\begin{enumerate*}\n\\item Dangerous Minds\n\\item Dumbo\n\\item Sleepers\n\\item Escape from New York\n\\item Cinema Paradiso (Nuovo cinema Paradiso)\n\\item Deer Hunter, The\n\\item Ben-Hur\n\\item Gandhi\n\\item Dracula (Bram Stoker's Dracula)\n\\item Cape Fear\n\\item Star Trek: The Motion Picture\n\\item Beavis and Butt-Head Do America\n\\item French Connection, The\n\\item Tron\n\\item Gods Must Be Crazy, The\n\\item Willow\n\\item Antz\n\\item Fly, The\n\\item Time Bandits\n\\item Blazing Saddles\n\\end{enumerate*}\n\n\\emph{Levels}: \\begin{enumerate*}\n\\item '¡Three Amigos!'\n\\item '...And God Spoke'\n\\item '...And Justice for All'\n\\item '\\textbackslash{}'burbs, The'\n\\item '\\textbackslash{}'Hellboy\\textbackslash{}': The Seeds of Creation'\n\\item '\\textbackslash{}'Neath the Arizona Skies'\n\\item '\\textbackslash{}'night Mother'\n\\item '\\textbackslash{}'Round Midnight'\n\\item '\\textbackslash{}'Salem\\textbackslash{}'s Lot'\n\\item '\\textbackslash{}'Til There Was You'\n\\item '\"Great Performances\" Cats'\n\\item '(500) Days of Summer'\n\\item '{[}REC{]}'\n\\item '*batteries not included'\n\\item '\\$9.99'\n\\item '1-900 (06)'\n\\item '10'\n\\item '10 Attitudes'\n\\item '10 Cloverfield Lane'\n\\item '10 Items or Less'\n\\item '10 Things I Hate About You'\n\\item '10 Years'\n\\item '10,000 BC'\n\\item '100 Girls'\n\\item '100 Rifles'\n\\item '101 Dalmatians'\n\\item '101 Dalmatians (One Hundred and One Dalmatians)'\n\\item '101 Reykjavik (101 Reykjavík)'\n\\item '102 Dalmatians'\n\\item '10th Kingdom, The'\n\\item '11:14'\n\\item '11\\textbackslash{}'09\"01 - September 11'\n\\item '12 Angry Men'\n\\item '12 Years a Slave'\n\\item '12:08 East of Bucharest (A fost sau n-a fost?)'\n\\item '127 Hours'\n\\item '13 Assassins (Jûsan-nin no shikaku)'\n\\item '13 Ghosts'\n\\item '13 Going on 30'\n\\item '13 Tzameti'\n\\item '13th Warrior, The'\n\\item '1408'\n\\item '15 Minutes'\n\\item '16 Blocks'\n\\item '16 Wishes'\n\\item '17 Again'\n\\item '18 Again!'\n\\item '187 (One Eight Seven)'\n\\item '1941'\n\\item '1984'\n\\item '1984 (Nineteen Eighty-Four)'\n\\item '1990: The Bronx Warriors (1990: I guerrieri del Bronx)'\n\\item '2 Days in New York'\n\\item '2 Days in the Valley'\n\\item '2 Fast 2 Furious (Fast and the Furious 2, The)'\n\\item '2 Guns'\n\\item '2 ou 3 choses que je sais d\\textbackslash{}'elle (2 or 3 Things I Know About Her)'\n\\item '20 Dates'\n\\item '20 Feet from Stardom (Twenty Feet from Stardom)'\n\\item '20,000 Leagues Under the Sea'\n\\item '200 Cigarettes'\n\\item '200 Motels'\n\\item '2001: A Space Odyssey'\n\\item '2010: The Year We Make Contact'\n\\item '2012'\n\\item '2046'\n\\item '21'\n\\item '21 Grams'\n\\item '21 Jump Street'\n\\item '21 Up'\n\\item '22 Jump Street'\n\\item '23 (23 - Nichts ist so wie es scheint)'\n\\item '24 Hour Party People'\n\\item '24 Hour Woman, The'\n\\item '24: Redemption'\n\\item '25 Watts'\n\\item '25th Hour'\n\\item '27 Dresses'\n\\item '28 Days'\n\\item '28 Days Later'\n\\item '28 Up'\n\\item '28 Weeks Later'\n\\item '29th and Gay'\n\\item '3 Extremes (Three... Extremes) (Saam gaang yi)'\n\\item '3 Idiots'\n\\item '3 Ninjas'\n\\item '3 Ninjas Kick Back'\n\\item '3 Ninjas Knuckle Up'\n\\item '3 Ninjas: High Noon On Mega Mountain'\n\\item '3 Women (Three Women)'\n\\item '3 Worlds of Gulliver, The'\n\\item '3-Day Weekend'\n\\item '3-Iron (Bin-jip)'\n\\item '3:10 to Yuma'\n\\item '30 Days of Night'\n\\item '30 Minutes or Less'\n\\item '30 Years to Life'\n\\item '300'\n\\item '300: Rise of an Empire'\n\\item '3000 Miles to Graceland'\n\\item '35 Up'\n\\item '36th Chamber of Shaolin, The (Shao Lin san shi liu fang) (Master Killer)'\n\\item '39 Steps, The'\n\\item '4 for Texas'\n\\item '4 Little Girls'\n\\item '4 Months, 3 Weeks and 2 Days (4 luni, 3 saptamâni si 2 zile)'\n\\item '40 Days and 40 Nights'\n\\item '40-Year-Old Virgin, The'\n\\item '400 Blows, The (Les quatre cents coups)'\n\\item '41-Year-Old Virgin Who Knocked Up Sarah Marshall and Felt Superbad About It, The'\n\\item '42'\n\\item '42 Up'\n\\item '42nd Street'\n\\item '45 Years'\n\\item '47 Ronin'\n\\item '48 Hrs.'\n\\item '49 Up'\n\\item '49th Parallel'\n\\item '5 Centimeters per Second (Byôsoku 5 senchimêtoru)'\n\\item '5,000 Fingers of Dr. T, The'\n\\item '50 First Dates'\n\\item '50/50'\n\\item '52 Pick-Up'\n\\item '54'\n\\item '56 Up'\n\\item '5x2'\n\\item '61*'\n\\item '6th Day, The'\n\\item '6th Man, The (Sixth Man, The)'\n\\item '7 Days (Les 7 jours du talion)'\n\\item '7 Days in Hell'\n\\item '7 Plus Seven'\n\\item '71 Fragments of a Chronology of Chance (71 Fragmente einer Chronologie des Zufalls)'\n\\item '7th Voyage of Sinbad, The'\n\\item '8 1/2 (8½)'\n\\item '8 ½ Women (a.k.a. 8 1/2 Women) (a.k.a. Eight and a Half Women)'\n\\item '8 Heads in a Duffel Bag'\n\\item '8 Mile'\n\\item '8 Seconds'\n\\item '8 Women'\n\\item '84 Charing Cross Road'\n\\item '88 Minutes'\n\\item '8MM'\n\\item '9'\n\\item '9 1/2 Weeks (Nine 1/2 Weeks)'\n\\item '96 Minutes'\n\\item '99 Homes'\n\\item 'A Deadly Adoption'\n\\item 'A Home at the End of the World'\n\\item 'A Million Ways to Die in the West'\n\\item 'A Most Violent Year'\n\\item 'A Most Wanted Man'\n\\item 'À nous la liberté (Freedom for Us)'\n\\item 'A Very Murray Christmas'\n\\item 'A Walk in the Sun'\n\\item 'A-Haunting We Will Go'\n\\item 'A-Team, The'\n\\item 'A.I. Artificial Intelligence'\n\\item 'A.R.O.G.'\n\\item 'Abandon'\n\\item 'Abbott and Costello Meet Frankenstein'\n\\item 'Abbott and Costello Meet the Invisible Man'\n\\item 'Abbott and Costello Meet the Mummy'\n\\item 'Abduction'\n\\item 'Abominable Dr. Phibes, The'\n\\item 'About a Boy'\n\\item 'About Elly (Darbareye Elly)'\n\\item 'About Last Night'\n\\item 'About Last Night...'\n\\item 'About Schmidt'\n\\item 'About Time'\n\\item 'Above the Law'\n\\item 'Above the Rim'\n\\item 'Abraham Lincoln: Vampire Hunter'\n\\item 'Absence of Malice'\n\\item 'Absent (Ausente)'\n\\item 'Absent-Minded Professor, The'\n\\item 'Absolute Giganten'\n\\item 'Absolute Power'\n\\item 'Abyss, The'\n\\item 'Accattone'\n\\item 'Accepted'\n\\item 'Accidental Tourist, The'\n\\item 'Accused, The'\n\\item 'Ace in the Hole (Big Carnival, The)'\n\\item 'Ace Ventura: Pet Detective'\n\\item 'Ace Ventura: When Nature Calls'\n\\item 'Aces: Iron Eagle III'\n\\item 'Across the Line: The Exodus of Charlie Wright'\n\\item 'Across the Sea of Time'\n\\item 'Across the Universe'\n\\item 'Act of Killing, The'\n\\item 'Action Jackson'\n\\item 'Adam'\n\\item 'Adam\\textbackslash{}'s Apples (Adams æbler)'\n\\item 'Adam\\textbackslash{}'s Rib'\n\\item 'Adaptation'\n\\item 'Addams Family Reunion'\n\\item 'Addams Family Values'\n\\item 'Addams Family, The'\n\\item ⋯\n\\item 'Wind That Shakes the Barley, The'\n\\item 'Wind Will Carry Us, The (Bad ma ra khahad bord)'\n\\item 'Windtalkers'\n\\item 'Wing Commander'\n\\item 'Winged Migration (Peuple migrateur, Le)'\n\\item 'Wings'\n\\item 'Wings of Desire (Himmel über Berlin, Der)'\n\\item 'Wings of Hope (Julianes Sturz in den Dschungel)'\n\\item 'Wings of the Dove, The'\n\\item 'Winnebago Man'\n\\item 'Winnie the Pooh'\n\\item 'Winnie the Pooh and the Blustery Day'\n\\item 'Winnie the Pooh and Tigger Too'\n\\item 'Winslow Boy, The'\n\\item 'Winter Guest, The'\n\\item 'Winter Light (Nattvardsgästerna)'\n\\item 'Winter War (Talvisota)'\n\\item 'Winter\\textbackslash{}'s Bone'\n\\item 'Winter\\textbackslash{}'s Tale'\n\\item 'Wisconsin Death Trip'\n\\item 'Wisdom'\n\\item 'Wise Blood'\n\\item 'Wish Upon a Star'\n\\item 'Wishful Drinking'\n\\item 'Wishmaster'\n\\item 'Wit'\n\\item 'Witches of Eastwick, The'\n\\item 'Witches, The'\n\\item 'Witchfinder General (Conquerer Worm, The)'\n\\item 'Witching and Bitching (Brujas de Zugarramurdi, Las)'\n\\item 'With a Friend Like Harry... (Harry, un ami qui vous veut du bien)'\n\\item 'With Honors'\n\\item 'Withnail \\& I'\n\\item 'Without a Clue'\n\\item 'Without a Paddle'\n\\item 'Without Limits'\n\\item 'Witless Protection'\n\\item 'Witness'\n\\item 'Witness for the Prosecution'\n\\item 'Wiz, The'\n\\item 'Wizard of Oz, The'\n\\item 'Wizards'\n\\item 'Wolf'\n\\item 'Wolf Children (Okami kodomo no ame to yuki)'\n\\item 'Wolf Creek'\n\\item 'Wolf Man, The'\n\\item 'Wolf of Wall Street, The'\n\\item 'Wolfman, The'\n\\item 'Wolverine, The'\n\\item 'Woman in Red, The'\n\\item 'Woman in the Dunes (Suna no onna)'\n\\item 'Woman in the Fifth, The (Femme du Vème, La)'\n\\item 'Woman in the Window, The'\n\\item 'Woman of the Year'\n\\item 'Woman on the Beach (Haebyeonui yeoin)'\n\\item 'Woman on Top'\n\\item 'Woman Under the Influence, A'\n\\item 'Woman, The'\n\\item 'Women in Love'\n\\item 'Women in Trouble'\n\\item 'Women on the Verge of a Nervous Breakdown (Mujeres al borde de un ataque de nervios)'\n\\item 'Women, The'\n\\item 'Wonder Boys'\n\\item 'Wonder Woman'\n\\item 'Wonderful World of the Brothers Grimm, The'\n\\item 'Wonderful, Horrible Life of Leni Riefenstahl, The (Macht der Bilder: Leni Riefenstahl, Die)'\n\\item 'Wonderland'\n\\item 'Woo'\n\\item 'Wood, The'\n\\item 'Woodsman, The'\n\\item 'Woodstock'\n\\item 'Woody Allen: A Documentary'\n\\item 'Wordplay'\n\\item 'Words and Pictures'\n\\item 'Working Girl'\n\\item 'World According to Garp, The'\n\\item 'World Before Her, The'\n\\item 'World Is Not Enough, The'\n\\item 'World of Apu, The (Apur Sansar)'\n\\item 'World of Suzie Wong, The'\n\\item 'World of Tomorrow'\n\\item 'World Trade Center'\n\\item 'World War Z'\n\\item 'World\\textbackslash{}'s End, The'\n\\item 'World\\textbackslash{}'s Fastest Indian, The'\n\\item 'World\\textbackslash{}'s Greatest Dad'\n\\item 'Worth Winning'\n\\item 'Would You Rather'\n\\item 'Wrath of the Titans'\n\\item 'Wreck-It Ralph'\n\\item 'Wrestler, The'\n\\item 'Wristcutters: A Love Story'\n\\item 'Written on the Wind'\n\\item 'Wrong'\n\\item 'Wrong Cops'\n\\item 'Wrong Guy, The'\n\\item 'Wrong Man, The'\n\\item 'Wrong Turn'\n\\item 'Wrong Turn 2: Dead End'\n\\item 'Wrongfully Accused'\n\\item 'Wuthering Heights'\n\\item 'Wyatt Earp'\n\\item 'X-Files: Fight the Future, The'\n\\item 'X-Files: I Want to Believe, The'\n\\item 'X-Men'\n\\item 'X-Men Origins: Wolverine'\n\\item 'X-Men: Apocalypse'\n\\item 'X-Men: Days of Future Past'\n\\item 'X-Men: First Class'\n\\item 'X-Men: The Last Stand'\n\\item 'X: The Man with the X-Ray Eyes'\n\\item 'X2: X-Men United'\n\\item 'Xanadu'\n\\item 'Xiu Xiu: The Sent-Down Girl (Tian yu)'\n\\item 'xXx'\n\\item 'xXx: State of the Union'\n\\item 'XXY'\n\\item 'Yankee Doodle Dandy'\n\\item 'Yards, The'\n\\item 'Year of Living Dangerously, The'\n\\item 'Year of the Horse'\n\\item 'Year One'\n\\item 'Yearling, The'\n\\item 'Yeh Jawaani Hai Deewani'\n\\item 'Yellow Submarine'\n\\item 'Yentl'\n\\item 'Yes Man'\n\\item 'Yes Men Fix the World, The'\n\\item 'Yes Men, The'\n\\item 'Yes, Madam (a.k.a. Police Assassins) (a.k.a. In the Line of Duty 2) (Huang gu shi jie)'\n\\item 'Yi Yi'\n\\item 'Yogi Bear'\n\\item 'Yojimbo'\n\\item 'Yossi (Ha-Sippur Shel Yossi)'\n\\item 'Yossi \\& Jagger'\n\\item 'You Again'\n\\item 'You Can Count on Me'\n\\item 'You Can\\textbackslash{}'t Take It with You'\n\\item 'You Don\\textbackslash{}'t Know Jack'\n\\item 'You Don\\textbackslash{}'t Mess with the Zohan'\n\\item 'You Kill Me'\n\\item 'You Only Live Twice'\n\\item 'You Will Meet a Tall Dark Stranger'\n\\item 'You, Me and Dupree'\n\\item 'You\\textbackslash{}'re Next'\n\\item 'You\\textbackslash{}'ve Got Mail'\n\\item 'Young Adult'\n\\item 'Young at Heart'\n\\item 'Young at Heart (a.k.a. Young@Heart)'\n\\item 'Young Doctors in Love'\n\\item 'Young Einstein'\n\\item 'Young Frankenstein'\n\\item 'Young Guns'\n\\item 'Young Guns II'\n\\item 'Young Master, The (Shi di chu ma)'\n\\item 'Young People Fucking (a.k.a. YPF)'\n\\item 'Young Poisoner\\textbackslash{}'s Handbook, The'\n\\item 'Young Sherlock Holmes'\n\\item 'Young Victoria, The'\n\\item 'Youngblood'\n\\item 'Your Friends and Neighbors'\n\\item 'Your Highness'\n\\item 'Your Sister\\textbackslash{}'s Sister'\n\\item 'Yours, Mine and Ours'\n\\item 'Youth in Revolt'\n\\item 'Youth of the Beast (Yaju no seishun)'\n\\item 'Yu-Gi-Oh!'\n\\item 'Z'\n\\item 'Z Channel: A Magnificent Obsession'\n\\item 'Zach Galifianakis: Live at the Purple Onion'\n\\item 'Zack and Miri Make a Porno'\n\\item 'Zardoz'\n\\item 'Zathura'\n\\item 'Zatoichi on the Road (Zatôichi kenka-tabi) (Zatôichi 5)'\n\\item 'Zazie dans le métro'\n\\item 'Zed \\& Two Noughts, A'\n\\item 'Zeitgeist: The Movie'\n\\item 'Zelary'\n\\item 'Zelig'\n\\item 'Zenon: Girl of the 21st Century'\n\\item 'Zenon: The Zequel'\n\\item 'Zenon: Z3'\n\\item 'Zero Dark Thirty'\n\\item 'Zero Effect'\n\\item 'Zero Theorem, The'\n\\item 'Zerophilia'\n\\item 'Zodiac'\n\\item 'Zombeavers'\n\\item 'Zombie (a.k.a. Zombie 2: The Dead Are Among Us) (Zombi 2)'\n\\item 'Zombie Holocaust (a.k.a. Doctor Butcher M.D.) (Zombi Holocaust)'\n\\item 'Zombieland'\n\\item 'Zoolander'\n\\item 'Zoolander 2'\n\\item 'Zoom'\n\\item 'Zoot Suit'\n\\item 'Zootopia'\n\\item 'Zorba the Greek (Alexis Zorbas)'\n\\item 'Zorn\\textbackslash{}'s Lemma'\n\\item 'Zorro, the Gay Blade'\n\\item 'Zulu'\n\\end{enumerate*}\n",
            "text/markdown": "1. Dangerous Minds\n2. Dumbo\n3. Sleepers\n4. Escape from New York\n5. Cinema Paradiso (Nuovo cinema Paradiso)\n6. Deer Hunter, The\n7. Ben-Hur\n8. Gandhi\n9. Dracula (Bram Stoker's Dracula)\n10. Cape Fear\n11. Star Trek: The Motion Picture\n12. Beavis and Butt-Head Do America\n13. French Connection, The\n14. Tron\n15. Gods Must Be Crazy, The\n16. Willow\n17. Antz\n18. Fly, The\n19. Time Bandits\n20. Blazing Saddles\n\n\n\n**Levels**: 1. '¡Three Amigos!'\n2. '...And God Spoke'\n3. '...And Justice for All'\n4. '\\'burbs, The'\n5. '\\'Hellboy\\': The Seeds of Creation'\n6. '\\'Neath the Arizona Skies'\n7. '\\'night Mother'\n8. '\\'Round Midnight'\n9. '\\'Salem\\'s Lot'\n10. '\\'Til There Was You'\n11. '\"Great Performances\" Cats'\n12. '(500) Days of Summer'\n13. '[REC]'\n14. '*batteries not included'\n15. '$9.99'\n16. '1-900 (06)'\n17. '10'\n18. '10 Attitudes'\n19. '10 Cloverfield Lane'\n20. '10 Items or Less'\n21. '10 Things I Hate About You'\n22. '10 Years'\n23. '10,000 BC'\n24. '100 Girls'\n25. '100 Rifles'\n26. '101 Dalmatians'\n27. '101 Dalmatians (One Hundred and One Dalmatians)'\n28. '101 Reykjavik (101 Reykjavík)'\n29. '102 Dalmatians'\n30. '10th Kingdom, The'\n31. '11:14'\n32. '11\\'09\"01 - September 11'\n33. '12 Angry Men'\n34. '12 Years a Slave'\n35. '12:08 East of Bucharest (A fost sau n-a fost?)'\n36. '127 Hours'\n37. '13 Assassins (Jûsan-nin no shikaku)'\n38. '13 Ghosts'\n39. '13 Going on 30'\n40. '13 Tzameti'\n41. '13th Warrior, The'\n42. '1408'\n43. '15 Minutes'\n44. '16 Blocks'\n45. '16 Wishes'\n46. '17 Again'\n47. '18 Again!'\n48. '187 (One Eight Seven)'\n49. '1941'\n50. '1984'\n51. '1984 (Nineteen Eighty-Four)'\n52. '1990: The Bronx Warriors (1990: I guerrieri del Bronx)'\n53. '2 Days in New York'\n54. '2 Days in the Valley'\n55. '2 Fast 2 Furious (Fast and the Furious 2, The)'\n56. '2 Guns'\n57. '2 ou 3 choses que je sais d\\'elle (2 or 3 Things I Know About Her)'\n58. '20 Dates'\n59. '20 Feet from Stardom (Twenty Feet from Stardom)'\n60. '20,000 Leagues Under the Sea'\n61. '200 Cigarettes'\n62. '200 Motels'\n63. '2001: A Space Odyssey'\n64. '2010: The Year We Make Contact'\n65. '2012'\n66. '2046'\n67. '21'\n68. '21 Grams'\n69. '21 Jump Street'\n70. '21 Up'\n71. '22 Jump Street'\n72. '23 (23 - Nichts ist so wie es scheint)'\n73. '24 Hour Party People'\n74. '24 Hour Woman, The'\n75. '24: Redemption'\n76. '25 Watts'\n77. '25th Hour'\n78. '27 Dresses'\n79. '28 Days'\n80. '28 Days Later'\n81. '28 Up'\n82. '28 Weeks Later'\n83. '29th and Gay'\n84. '3 Extremes (Three... Extremes) (Saam gaang yi)'\n85. '3 Idiots'\n86. '3 Ninjas'\n87. '3 Ninjas Kick Back'\n88. '3 Ninjas Knuckle Up'\n89. '3 Ninjas: High Noon On Mega Mountain'\n90. '3 Women (Three Women)'\n91. '3 Worlds of Gulliver, The'\n92. '3-Day Weekend'\n93. '3-Iron (Bin-jip)'\n94. '3:10 to Yuma'\n95. '30 Days of Night'\n96. '30 Minutes or Less'\n97. '30 Years to Life'\n98. '300'\n99. '300: Rise of an Empire'\n100. '3000 Miles to Graceland'\n101. '35 Up'\n102. '36th Chamber of Shaolin, The (Shao Lin san shi liu fang) (Master Killer)'\n103. '39 Steps, The'\n104. '4 for Texas'\n105. '4 Little Girls'\n106. '4 Months, 3 Weeks and 2 Days (4 luni, 3 saptamâni si 2 zile)'\n107. '40 Days and 40 Nights'\n108. '40-Year-Old Virgin, The'\n109. '400 Blows, The (Les quatre cents coups)'\n110. '41-Year-Old Virgin Who Knocked Up Sarah Marshall and Felt Superbad About It, The'\n111. '42'\n112. '42 Up'\n113. '42nd Street'\n114. '45 Years'\n115. '47 Ronin'\n116. '48 Hrs.'\n117. '49 Up'\n118. '49th Parallel'\n119. '5 Centimeters per Second (Byôsoku 5 senchimêtoru)'\n120. '5,000 Fingers of Dr. T, The'\n121. '50 First Dates'\n122. '50/50'\n123. '52 Pick-Up'\n124. '54'\n125. '56 Up'\n126. '5x2'\n127. '61*'\n128. '6th Day, The'\n129. '6th Man, The (Sixth Man, The)'\n130. '7 Days (Les 7 jours du talion)'\n131. '7 Days in Hell'\n132. '7 Plus Seven'\n133. '71 Fragments of a Chronology of Chance (71 Fragmente einer Chronologie des Zufalls)'\n134. '7th Voyage of Sinbad, The'\n135. '8 1/2 (8½)'\n136. '8 ½ Women (a.k.a. 8 1/2 Women) (a.k.a. Eight and a Half Women)'\n137. '8 Heads in a Duffel Bag'\n138. '8 Mile'\n139. '8 Seconds'\n140. '8 Women'\n141. '84 Charing Cross Road'\n142. '88 Minutes'\n143. '8MM'\n144. '9'\n145. '9 1/2 Weeks (Nine 1/2 Weeks)'\n146. '96 Minutes'\n147. '99 Homes'\n148. 'A Deadly Adoption'\n149. 'A Home at the End of the World'\n150. 'A Million Ways to Die in the West'\n151. 'A Most Violent Year'\n152. 'A Most Wanted Man'\n153. 'À nous la liberté (Freedom for Us)'\n154. 'A Very Murray Christmas'\n155. 'A Walk in the Sun'\n156. 'A-Haunting We Will Go'\n157. 'A-Team, The'\n158. 'A.I. Artificial Intelligence'\n159. 'A.R.O.G.'\n160. 'Abandon'\n161. 'Abbott and Costello Meet Frankenstein'\n162. 'Abbott and Costello Meet the Invisible Man'\n163. 'Abbott and Costello Meet the Mummy'\n164. 'Abduction'\n165. 'Abominable Dr. Phibes, The'\n166. 'About a Boy'\n167. 'About Elly (Darbareye Elly)'\n168. 'About Last Night'\n169. 'About Last Night...'\n170. 'About Schmidt'\n171. 'About Time'\n172. 'Above the Law'\n173. 'Above the Rim'\n174. 'Abraham Lincoln: Vampire Hunter'\n175. 'Absence of Malice'\n176. 'Absent (Ausente)'\n177. 'Absent-Minded Professor, The'\n178. 'Absolute Giganten'\n179. 'Absolute Power'\n180. 'Abyss, The'\n181. 'Accattone'\n182. 'Accepted'\n183. 'Accidental Tourist, The'\n184. 'Accused, The'\n185. 'Ace in the Hole (Big Carnival, The)'\n186. 'Ace Ventura: Pet Detective'\n187. 'Ace Ventura: When Nature Calls'\n188. 'Aces: Iron Eagle III'\n189. 'Across the Line: The Exodus of Charlie Wright'\n190. 'Across the Sea of Time'\n191. 'Across the Universe'\n192. 'Act of Killing, The'\n193. 'Action Jackson'\n194. 'Adam'\n195. 'Adam\\'s Apples (Adams æbler)'\n196. 'Adam\\'s Rib'\n197. 'Adaptation'\n198. 'Addams Family Reunion'\n199. 'Addams Family Values'\n200. 'Addams Family, The'\n201. ⋯\n202. 'Wind That Shakes the Barley, The'\n203. 'Wind Will Carry Us, The (Bad ma ra khahad bord)'\n204. 'Windtalkers'\n205. 'Wing Commander'\n206. 'Winged Migration (Peuple migrateur, Le)'\n207. 'Wings'\n208. 'Wings of Desire (Himmel über Berlin, Der)'\n209. 'Wings of Hope (Julianes Sturz in den Dschungel)'\n210. 'Wings of the Dove, The'\n211. 'Winnebago Man'\n212. 'Winnie the Pooh'\n213. 'Winnie the Pooh and the Blustery Day'\n214. 'Winnie the Pooh and Tigger Too'\n215. 'Winslow Boy, The'\n216. 'Winter Guest, The'\n217. 'Winter Light (Nattvardsgästerna)'\n218. 'Winter War (Talvisota)'\n219. 'Winter\\'s Bone'\n220. 'Winter\\'s Tale'\n221. 'Wisconsin Death Trip'\n222. 'Wisdom'\n223. 'Wise Blood'\n224. 'Wish Upon a Star'\n225. 'Wishful Drinking'\n226. 'Wishmaster'\n227. 'Wit'\n228. 'Witches of Eastwick, The'\n229. 'Witches, The'\n230. 'Witchfinder General (Conquerer Worm, The)'\n231. 'Witching and Bitching (Brujas de Zugarramurdi, Las)'\n232. 'With a Friend Like Harry... (Harry, un ami qui vous veut du bien)'\n233. 'With Honors'\n234. 'Withnail &amp; I'\n235. 'Without a Clue'\n236. 'Without a Paddle'\n237. 'Without Limits'\n238. 'Witless Protection'\n239. 'Witness'\n240. 'Witness for the Prosecution'\n241. 'Wiz, The'\n242. 'Wizard of Oz, The'\n243. 'Wizards'\n244. 'Wolf'\n245. 'Wolf Children (Okami kodomo no ame to yuki)'\n246. 'Wolf Creek'\n247. 'Wolf Man, The'\n248. 'Wolf of Wall Street, The'\n249. 'Wolfman, The'\n250. 'Wolverine, The'\n251. 'Woman in Red, The'\n252. 'Woman in the Dunes (Suna no onna)'\n253. 'Woman in the Fifth, The (Femme du Vème, La)'\n254. 'Woman in the Window, The'\n255. 'Woman of the Year'\n256. 'Woman on the Beach (Haebyeonui yeoin)'\n257. 'Woman on Top'\n258. 'Woman Under the Influence, A'\n259. 'Woman, The'\n260. 'Women in Love'\n261. 'Women in Trouble'\n262. 'Women on the Verge of a Nervous Breakdown (Mujeres al borde de un ataque de nervios)'\n263. 'Women, The'\n264. 'Wonder Boys'\n265. 'Wonder Woman'\n266. 'Wonderful World of the Brothers Grimm, The'\n267. 'Wonderful, Horrible Life of Leni Riefenstahl, The (Macht der Bilder: Leni Riefenstahl, Die)'\n268. 'Wonderland'\n269. 'Woo'\n270. 'Wood, The'\n271. 'Woodsman, The'\n272. 'Woodstock'\n273. 'Woody Allen: A Documentary'\n274. 'Wordplay'\n275. 'Words and Pictures'\n276. 'Working Girl'\n277. 'World According to Garp, The'\n278. 'World Before Her, The'\n279. 'World Is Not Enough, The'\n280. 'World of Apu, The (Apur Sansar)'\n281. 'World of Suzie Wong, The'\n282. 'World of Tomorrow'\n283. 'World Trade Center'\n284. 'World War Z'\n285. 'World\\'s End, The'\n286. 'World\\'s Fastest Indian, The'\n287. 'World\\'s Greatest Dad'\n288. 'Worth Winning'\n289. 'Would You Rather'\n290. 'Wrath of the Titans'\n291. 'Wreck-It Ralph'\n292. 'Wrestler, The'\n293. 'Wristcutters: A Love Story'\n294. 'Written on the Wind'\n295. 'Wrong'\n296. 'Wrong Cops'\n297. 'Wrong Guy, The'\n298. 'Wrong Man, The'\n299. 'Wrong Turn'\n300. 'Wrong Turn 2: Dead End'\n301. 'Wrongfully Accused'\n302. 'Wuthering Heights'\n303. 'Wyatt Earp'\n304. 'X-Files: Fight the Future, The'\n305. 'X-Files: I Want to Believe, The'\n306. 'X-Men'\n307. 'X-Men Origins: Wolverine'\n308. 'X-Men: Apocalypse'\n309. 'X-Men: Days of Future Past'\n310. 'X-Men: First Class'\n311. 'X-Men: The Last Stand'\n312. 'X: The Man with the X-Ray Eyes'\n313. 'X2: X-Men United'\n314. 'Xanadu'\n315. 'Xiu Xiu: The Sent-Down Girl (Tian yu)'\n316. 'xXx'\n317. 'xXx: State of the Union'\n318. 'XXY'\n319. 'Yankee Doodle Dandy'\n320. 'Yards, The'\n321. 'Year of Living Dangerously, The'\n322. 'Year of the Horse'\n323. 'Year One'\n324. 'Yearling, The'\n325. 'Yeh Jawaani Hai Deewani'\n326. 'Yellow Submarine'\n327. 'Yentl'\n328. 'Yes Man'\n329. 'Yes Men Fix the World, The'\n330. 'Yes Men, The'\n331. 'Yes, Madam (a.k.a. Police Assassins) (a.k.a. In the Line of Duty 2) (Huang gu shi jie)'\n332. 'Yi Yi'\n333. 'Yogi Bear'\n334. 'Yojimbo'\n335. 'Yossi (Ha-Sippur Shel Yossi)'\n336. 'Yossi &amp; Jagger'\n337. 'You Again'\n338. 'You Can Count on Me'\n339. 'You Can\\'t Take It with You'\n340. 'You Don\\'t Know Jack'\n341. 'You Don\\'t Mess with the Zohan'\n342. 'You Kill Me'\n343. 'You Only Live Twice'\n344. 'You Will Meet a Tall Dark Stranger'\n345. 'You, Me and Dupree'\n346. 'You\\'re Next'\n347. 'You\\'ve Got Mail'\n348. 'Young Adult'\n349. 'Young at Heart'\n350. 'Young at Heart (a.k.a. Young@Heart)'\n351. 'Young Doctors in Love'\n352. 'Young Einstein'\n353. 'Young Frankenstein'\n354. 'Young Guns'\n355. 'Young Guns II'\n356. 'Young Master, The (Shi di chu ma)'\n357. 'Young People Fucking (a.k.a. YPF)'\n358. 'Young Poisoner\\'s Handbook, The'\n359. 'Young Sherlock Holmes'\n360. 'Young Victoria, The'\n361. 'Youngblood'\n362. 'Your Friends and Neighbors'\n363. 'Your Highness'\n364. 'Your Sister\\'s Sister'\n365. 'Yours, Mine and Ours'\n366. 'Youth in Revolt'\n367. 'Youth of the Beast (Yaju no seishun)'\n368. 'Yu-Gi-Oh!'\n369. 'Z'\n370. 'Z Channel: A Magnificent Obsession'\n371. 'Zach Galifianakis: Live at the Purple Onion'\n372. 'Zack and Miri Make a Porno'\n373. 'Zardoz'\n374. 'Zathura'\n375. 'Zatoichi on the Road (Zatôichi kenka-tabi) (Zatôichi 5)'\n376. 'Zazie dans le métro'\n377. 'Zed &amp; Two Noughts, A'\n378. 'Zeitgeist: The Movie'\n379. 'Zelary'\n380. 'Zelig'\n381. 'Zenon: Girl of the 21st Century'\n382. 'Zenon: The Zequel'\n383. 'Zenon: Z3'\n384. 'Zero Dark Thirty'\n385. 'Zero Effect'\n386. 'Zero Theorem, The'\n387. 'Zerophilia'\n388. 'Zodiac'\n389. 'Zombeavers'\n390. 'Zombie (a.k.a. Zombie 2: The Dead Are Among Us) (Zombi 2)'\n391. 'Zombie Holocaust (a.k.a. Doctor Butcher M.D.) (Zombi Holocaust)'\n392. 'Zombieland'\n393. 'Zoolander'\n394. 'Zoolander 2'\n395. 'Zoom'\n396. 'Zoot Suit'\n397. 'Zootopia'\n398. 'Zorba the Greek (Alexis Zorbas)'\n399. 'Zorn\\'s Lemma'\n400. 'Zorro, the Gay Blade'\n401. 'Zulu'\n\n\n",
            "text/html": [
              "<style>\n",
              ".list-inline {list-style: none; margin:0; padding: 0}\n",
              ".list-inline>li {display: inline-block}\n",
              ".list-inline>li:not(:last-child)::after {content: \"\\00b7\"; padding: 0 .5ex}\n",
              "</style>\n",
              "<ol class=list-inline><li>Dangerous Minds</li><li>Dumbo</li><li>Sleepers</li><li>Escape from New York</li><li>Cinema Paradiso (Nuovo cinema Paradiso)</li><li>Deer Hunter, The</li><li>Ben-Hur</li><li>Gandhi</li><li>Dracula (Bram Stoker's Dracula)</li><li>Cape Fear</li><li>Star Trek: The Motion Picture</li><li>Beavis and Butt-Head Do America</li><li>French Connection, The</li><li>Tron</li><li>Gods Must Be Crazy, The</li><li>Willow</li><li>Antz</li><li>Fly, The</li><li>Time Bandits</li><li>Blazing Saddles</li></ol>\n",
              "\n",
              "<details>\n",
              "\t<summary style=display:list-item;cursor:pointer>\n",
              "\t\t<strong>Levels</strong>:\n",
              "\t</summary>\n",
              "\t<style>\n",
              "\t.list-inline {list-style: none; margin:0; padding: 0}\n",
              "\t.list-inline>li {display: inline-block}\n",
              "\t.list-inline>li:not(:last-child)::after {content: \"\\00b7\"; padding: 0 .5ex}\n",
              "\t</style>\n",
              "\t<ol class=list-inline><li>'¡Three Amigos!'</li><li>'...And God Spoke'</li><li>'...And Justice for All'</li><li>'\\'burbs, The'</li><li>'\\'Hellboy\\': The Seeds of Creation'</li><li>'\\'Neath the Arizona Skies'</li><li>'\\'night Mother'</li><li>'\\'Round Midnight'</li><li>'\\'Salem\\'s Lot'</li><li>'\\'Til There Was You'</li><li>'\"Great Performances\" Cats'</li><li>'(500) Days of Summer'</li><li>'[REC]'</li><li>'*batteries not included'</li><li>'$9.99'</li><li>'1-900 (06)'</li><li>'10'</li><li>'10 Attitudes'</li><li>'10 Cloverfield Lane'</li><li>'10 Items or Less'</li><li>'10 Things I Hate About You'</li><li>'10 Years'</li><li>'10,000 BC'</li><li>'100 Girls'</li><li>'100 Rifles'</li><li>'101 Dalmatians'</li><li>'101 Dalmatians (One Hundred and One Dalmatians)'</li><li>'101 Reykjavik (101 Reykjavík)'</li><li>'102 Dalmatians'</li><li>'10th Kingdom, The'</li><li>'11:14'</li><li>'11\\'09\"01 - September 11'</li><li>'12 Angry Men'</li><li>'12 Years a Slave'</li><li>'12:08 East of Bucharest (A fost sau n-a fost?)'</li><li>'127 Hours'</li><li>'13 Assassins (Jûsan-nin no shikaku)'</li><li>'13 Ghosts'</li><li>'13 Going on 30'</li><li>'13 Tzameti'</li><li>'13th Warrior, The'</li><li>'1408'</li><li>'15 Minutes'</li><li>'16 Blocks'</li><li>'16 Wishes'</li><li>'17 Again'</li><li>'18 Again!'</li><li>'187 (One Eight Seven)'</li><li>'1941'</li><li>'1984'</li><li>'1984 (Nineteen Eighty-Four)'</li><li>'1990: The Bronx Warriors (1990: I guerrieri del Bronx)'</li><li>'2 Days in New York'</li><li>'2 Days in the Valley'</li><li>'2 Fast 2 Furious (Fast and the Furious 2, The)'</li><li>'2 Guns'</li><li>'2 ou 3 choses que je sais d\\'elle (2 or 3 Things I Know About Her)'</li><li>'20 Dates'</li><li>'20 Feet from Stardom (Twenty Feet from Stardom)'</li><li>'20,000 Leagues Under the Sea'</li><li>'200 Cigarettes'</li><li>'200 Motels'</li><li>'2001: A Space Odyssey'</li><li>'2010: The Year We Make Contact'</li><li>'2012'</li><li>'2046'</li><li>'21'</li><li>'21 Grams'</li><li>'21 Jump Street'</li><li>'21 Up'</li><li>'22 Jump Street'</li><li>'23 (23 - Nichts ist so wie es scheint)'</li><li>'24 Hour Party People'</li><li>'24 Hour Woman, The'</li><li>'24: Redemption'</li><li>'25 Watts'</li><li>'25th Hour'</li><li>'27 Dresses'</li><li>'28 Days'</li><li>'28 Days Later'</li><li>'28 Up'</li><li>'28 Weeks Later'</li><li>'29th and Gay'</li><li>'3 Extremes (Three... Extremes) (Saam gaang yi)'</li><li>'3 Idiots'</li><li>'3 Ninjas'</li><li>'3 Ninjas Kick Back'</li><li>'3 Ninjas Knuckle Up'</li><li>'3 Ninjas: High Noon On Mega Mountain'</li><li>'3 Women (Three Women)'</li><li>'3 Worlds of Gulliver, The'</li><li>'3-Day Weekend'</li><li>'3-Iron (Bin-jip)'</li><li>'3:10 to Yuma'</li><li>'30 Days of Night'</li><li>'30 Minutes or Less'</li><li>'30 Years to Life'</li><li>'300'</li><li>'300: Rise of an Empire'</li><li>'3000 Miles to Graceland'</li><li>'35 Up'</li><li>'36th Chamber of Shaolin, The (Shao Lin san shi liu fang) (Master Killer)'</li><li>'39 Steps, The'</li><li>'4 for Texas'</li><li>'4 Little Girls'</li><li>'4 Months, 3 Weeks and 2 Days (4 luni, 3 saptamâni si 2 zile)'</li><li>'40 Days and 40 Nights'</li><li>'40-Year-Old Virgin, The'</li><li>'400 Blows, The (Les quatre cents coups)'</li><li>'41-Year-Old Virgin Who Knocked Up Sarah Marshall and Felt Superbad About It, The'</li><li>'42'</li><li>'42 Up'</li><li>'42nd Street'</li><li>'45 Years'</li><li>'47 Ronin'</li><li>'48 Hrs.'</li><li>'49 Up'</li><li>'49th Parallel'</li><li>'5 Centimeters per Second (Byôsoku 5 senchimêtoru)'</li><li>'5,000 Fingers of Dr. T, The'</li><li>'50 First Dates'</li><li>'50/50'</li><li>'52 Pick-Up'</li><li>'54'</li><li>'56 Up'</li><li>'5x2'</li><li>'61*'</li><li>'6th Day, The'</li><li>'6th Man, The (Sixth Man, The)'</li><li>'7 Days (Les 7 jours du talion)'</li><li>'7 Days in Hell'</li><li>'7 Plus Seven'</li><li>'71 Fragments of a Chronology of Chance (71 Fragmente einer Chronologie des Zufalls)'</li><li>'7th Voyage of Sinbad, The'</li><li>'8 1/2 (8½)'</li><li>'8 ½ Women (a.k.a. 8 1/2 Women) (a.k.a. Eight and a Half Women)'</li><li>'8 Heads in a Duffel Bag'</li><li>'8 Mile'</li><li>'8 Seconds'</li><li>'8 Women'</li><li>'84 Charing Cross Road'</li><li>'88 Minutes'</li><li>'8MM'</li><li>'9'</li><li>'9 1/2 Weeks (Nine 1/2 Weeks)'</li><li>'96 Minutes'</li><li>'99 Homes'</li><li>'A Deadly Adoption'</li><li>'A Home at the End of the World'</li><li>'A Million Ways to Die in the West'</li><li>'A Most Violent Year'</li><li>'A Most Wanted Man'</li><li>'À nous la liberté (Freedom for Us)'</li><li>'A Very Murray Christmas'</li><li>'A Walk in the Sun'</li><li>'A-Haunting We Will Go'</li><li>'A-Team, The'</li><li>'A.I. Artificial Intelligence'</li><li>'A.R.O.G.'</li><li>'Abandon'</li><li>'Abbott and Costello Meet Frankenstein'</li><li>'Abbott and Costello Meet the Invisible Man'</li><li>'Abbott and Costello Meet the Mummy'</li><li>'Abduction'</li><li>'Abominable Dr. Phibes, The'</li><li>'About a Boy'</li><li>'About Elly (Darbareye Elly)'</li><li>'About Last Night'</li><li>'About Last Night...'</li><li>'About Schmidt'</li><li>'About Time'</li><li>'Above the Law'</li><li>'Above the Rim'</li><li>'Abraham Lincoln: Vampire Hunter'</li><li>'Absence of Malice'</li><li>'Absent (Ausente)'</li><li>'Absent-Minded Professor, The'</li><li>'Absolute Giganten'</li><li>'Absolute Power'</li><li>'Abyss, The'</li><li>'Accattone'</li><li>'Accepted'</li><li>'Accidental Tourist, The'</li><li>'Accused, The'</li><li>'Ace in the Hole (Big Carnival, The)'</li><li>'Ace Ventura: Pet Detective'</li><li>'Ace Ventura: When Nature Calls'</li><li>'Aces: Iron Eagle III'</li><li>'Across the Line: The Exodus of Charlie Wright'</li><li>'Across the Sea of Time'</li><li>'Across the Universe'</li><li>'Act of Killing, The'</li><li>'Action Jackson'</li><li>'Adam'</li><li>'Adam\\'s Apples (Adams æbler)'</li><li>'Adam\\'s Rib'</li><li>'Adaptation'</li><li>'Addams Family Reunion'</li><li>'Addams Family Values'</li><li>'Addams Family, The'</li><li>⋯</li><li>'Wind That Shakes the Barley, The'</li><li>'Wind Will Carry Us, The (Bad ma ra khahad bord)'</li><li>'Windtalkers'</li><li>'Wing Commander'</li><li>'Winged Migration (Peuple migrateur, Le)'</li><li>'Wings'</li><li>'Wings of Desire (Himmel über Berlin, Der)'</li><li>'Wings of Hope (Julianes Sturz in den Dschungel)'</li><li>'Wings of the Dove, The'</li><li>'Winnebago Man'</li><li>'Winnie the Pooh'</li><li>'Winnie the Pooh and the Blustery Day'</li><li>'Winnie the Pooh and Tigger Too'</li><li>'Winslow Boy, The'</li><li>'Winter Guest, The'</li><li>'Winter Light (Nattvardsgästerna)'</li><li>'Winter War (Talvisota)'</li><li>'Winter\\'s Bone'</li><li>'Winter\\'s Tale'</li><li>'Wisconsin Death Trip'</li><li>'Wisdom'</li><li>'Wise Blood'</li><li>'Wish Upon a Star'</li><li>'Wishful Drinking'</li><li>'Wishmaster'</li><li>'Wit'</li><li>'Witches of Eastwick, The'</li><li>'Witches, The'</li><li>'Witchfinder General (Conquerer Worm, The)'</li><li>'Witching and Bitching (Brujas de Zugarramurdi, Las)'</li><li>'With a Friend Like Harry... (Harry, un ami qui vous veut du bien)'</li><li>'With Honors'</li><li>'Withnail &amp; I'</li><li>'Without a Clue'</li><li>'Without a Paddle'</li><li>'Without Limits'</li><li>'Witless Protection'</li><li>'Witness'</li><li>'Witness for the Prosecution'</li><li>'Wiz, The'</li><li>'Wizard of Oz, The'</li><li>'Wizards'</li><li>'Wolf'</li><li>'Wolf Children (Okami kodomo no ame to yuki)'</li><li>'Wolf Creek'</li><li>'Wolf Man, The'</li><li>'Wolf of Wall Street, The'</li><li>'Wolfman, The'</li><li>'Wolverine, The'</li><li>'Woman in Red, The'</li><li>'Woman in the Dunes (Suna no onna)'</li><li>'Woman in the Fifth, The (Femme du Vème, La)'</li><li>'Woman in the Window, The'</li><li>'Woman of the Year'</li><li>'Woman on the Beach (Haebyeonui yeoin)'</li><li>'Woman on Top'</li><li>'Woman Under the Influence, A'</li><li>'Woman, The'</li><li>'Women in Love'</li><li>'Women in Trouble'</li><li>'Women on the Verge of a Nervous Breakdown (Mujeres al borde de un ataque de nervios)'</li><li>'Women, The'</li><li>'Wonder Boys'</li><li>'Wonder Woman'</li><li>'Wonderful World of the Brothers Grimm, The'</li><li>'Wonderful, Horrible Life of Leni Riefenstahl, The (Macht der Bilder: Leni Riefenstahl, Die)'</li><li>'Wonderland'</li><li>'Woo'</li><li>'Wood, The'</li><li>'Woodsman, The'</li><li>'Woodstock'</li><li>'Woody Allen: A Documentary'</li><li>'Wordplay'</li><li>'Words and Pictures'</li><li>'Working Girl'</li><li>'World According to Garp, The'</li><li>'World Before Her, The'</li><li>'World Is Not Enough, The'</li><li>'World of Apu, The (Apur Sansar)'</li><li>'World of Suzie Wong, The'</li><li>'World of Tomorrow'</li><li>'World Trade Center'</li><li>'World War Z'</li><li>'World\\'s End, The'</li><li>'World\\'s Fastest Indian, The'</li><li>'World\\'s Greatest Dad'</li><li>'Worth Winning'</li><li>'Would You Rather'</li><li>'Wrath of the Titans'</li><li>'Wreck-It Ralph'</li><li>'Wrestler, The'</li><li>'Wristcutters: A Love Story'</li><li>'Written on the Wind'</li><li>'Wrong'</li><li>'Wrong Cops'</li><li>'Wrong Guy, The'</li><li>'Wrong Man, The'</li><li>'Wrong Turn'</li><li>'Wrong Turn 2: Dead End'</li><li>'Wrongfully Accused'</li><li>'Wuthering Heights'</li><li>'Wyatt Earp'</li><li>'X-Files: Fight the Future, The'</li><li>'X-Files: I Want to Believe, The'</li><li>'X-Men'</li><li>'X-Men Origins: Wolverine'</li><li>'X-Men: Apocalypse'</li><li>'X-Men: Days of Future Past'</li><li>'X-Men: First Class'</li><li>'X-Men: The Last Stand'</li><li>'X: The Man with the X-Ray Eyes'</li><li>'X2: X-Men United'</li><li>'Xanadu'</li><li>'Xiu Xiu: The Sent-Down Girl (Tian yu)'</li><li>'xXx'</li><li>'xXx: State of the Union'</li><li>'XXY'</li><li>'Yankee Doodle Dandy'</li><li>'Yards, The'</li><li>'Year of Living Dangerously, The'</li><li>'Year of the Horse'</li><li>'Year One'</li><li>'Yearling, The'</li><li>'Yeh Jawaani Hai Deewani'</li><li>'Yellow Submarine'</li><li>'Yentl'</li><li>'Yes Man'</li><li>'Yes Men Fix the World, The'</li><li>'Yes Men, The'</li><li>'Yes, Madam (a.k.a. Police Assassins) (a.k.a. In the Line of Duty 2) (Huang gu shi jie)'</li><li>'Yi Yi'</li><li>'Yogi Bear'</li><li>'Yojimbo'</li><li>'Yossi (Ha-Sippur Shel Yossi)'</li><li>'Yossi &amp; Jagger'</li><li>'You Again'</li><li>'You Can Count on Me'</li><li>'You Can\\'t Take It with You'</li><li>'You Don\\'t Know Jack'</li><li>'You Don\\'t Mess with the Zohan'</li><li>'You Kill Me'</li><li>'You Only Live Twice'</li><li>'You Will Meet a Tall Dark Stranger'</li><li>'You, Me and Dupree'</li><li>'You\\'re Next'</li><li>'You\\'ve Got Mail'</li><li>'Young Adult'</li><li>'Young at Heart'</li><li>'Young at Heart (a.k.a. Young@Heart)'</li><li>'Young Doctors in Love'</li><li>'Young Einstein'</li><li>'Young Frankenstein'</li><li>'Young Guns'</li><li>'Young Guns II'</li><li>'Young Master, The (Shi di chu ma)'</li><li>'Young People Fucking (a.k.a. YPF)'</li><li>'Young Poisoner\\'s Handbook, The'</li><li>'Young Sherlock Holmes'</li><li>'Young Victoria, The'</li><li>'Youngblood'</li><li>'Your Friends and Neighbors'</li><li>'Your Highness'</li><li>'Your Sister\\'s Sister'</li><li>'Yours, Mine and Ours'</li><li>'Youth in Revolt'</li><li>'Youth of the Beast (Yaju no seishun)'</li><li>'Yu-Gi-Oh!'</li><li>'Z'</li><li>'Z Channel: A Magnificent Obsession'</li><li>'Zach Galifianakis: Live at the Purple Onion'</li><li>'Zack and Miri Make a Porno'</li><li>'Zardoz'</li><li>'Zathura'</li><li>'Zatoichi on the Road (Zatôichi kenka-tabi) (Zatôichi 5)'</li><li>'Zazie dans le métro'</li><li>'Zed &amp; Two Noughts, A'</li><li>'Zeitgeist: The Movie'</li><li>'Zelary'</li><li>'Zelig'</li><li>'Zenon: Girl of the 21st Century'</li><li>'Zenon: The Zequel'</li><li>'Zenon: Z3'</li><li>'Zero Dark Thirty'</li><li>'Zero Effect'</li><li>'Zero Theorem, The'</li><li>'Zerophilia'</li><li>'Zodiac'</li><li>'Zombeavers'</li><li>'Zombie (a.k.a. Zombie 2: The Dead Are Among Us) (Zombi 2)'</li><li>'Zombie Holocaust (a.k.a. Doctor Butcher M.D.) (Zombi Holocaust)'</li><li>'Zombieland'</li><li>'Zoolander'</li><li>'Zoolander 2'</li><li>'Zoom'</li><li>'Zoot Suit'</li><li>'Zootopia'</li><li>'Zorba the Greek (Alexis Zorbas)'</li><li>'Zorn\\'s Lemma'</li><li>'Zorro, the Gay Blade'</li><li>'Zulu'</li></ol>\n",
              "</details>"
            ]
          },
          "metadata": {
            "tags": []
          }
        }
      ]
    },
    {
      "cell_type": "code",
      "metadata": {
        "id": "XcU1vanHpNY3",
        "colab_type": "code",
        "colab": {}
      },
      "source": [
        "movies_numbers = as.numeric(movies_titles)\n",
        "ratings  = movielens$rating"
      ],
      "execution_count": 0,
      "outputs": []
    },
    {
      "cell_type": "markdown",
      "metadata": {
        "id": "l4a3qMmfo-HF",
        "colab_type": "text"
      },
      "source": [
        "It's much easier to work with a matrix in sparse format. The softimpute package has a way to create that:"
      ]
    },
    {
      "cell_type": "code",
      "metadata": {
        "id": "T8DkoSySo9E3",
        "colab_type": "code",
        "colab": {}
      },
      "source": [
        "X = Incomplete(i = users, j = movies_numbers, x = ratings)"
      ],
      "execution_count": 0,
      "outputs": []
    },
    {
      "cell_type": "code",
      "metadata": {
        "id": "fTpKX70eo3Dn",
        "colab_type": "code",
        "colab": {
          "base_uri": "https://localhost:8080/",
          "height": 221
        },
        "outputId": "747480d0-062e-472d-c22f-e14c1cb491e4"
      },
      "source": [
        "X[1:10,1:5]"
      ],
      "execution_count": 21,
      "outputs": [
        {
          "output_type": "display_data",
          "data": {
            "text/plain": [
              "10 x 5 sparse Matrix of class \"dgCMatrix\"\n",
              "               \n",
              " [1,] . . . . .\n",
              " [2,] . . . . .\n",
              " [3,] . . . . .\n",
              " [4,] . . . . .\n",
              " [5,] . . . . .\n",
              " [6,] . . . 4 .\n",
              " [7,] . . . . .\n",
              " [8,] . . . . .\n",
              " [9,] . . . . .\n",
              "[10,] . . . . ."
            ]
          },
          "metadata": {
            "tags": []
          }
        }
      ]
    },
    {
      "cell_type": "markdown",
      "metadata": {
        "id": "3G-I8Ghbp02m",
        "colab_type": "text"
      },
      "source": [
        "SoftImpute allows to quickly minimise the nuclear norm regularised problem seen in class:\n",
        "\n"
      ]
    },
    {
      "cell_type": "code",
      "metadata": {
        "id": "dGgVCSwUqCes",
        "colab_type": "code",
        "colab": {
          "base_uri": "https://localhost:8080/",
          "height": 51
        },
        "outputId": "499c9f0b-7521-483f-82b7-f97aaa50b2c1"
      },
      "source": [
        "res = softImpute(X)"
      ],
      "execution_count": 29,
      "outputs": [
        {
          "output_type": "stream",
          "text": [
            "Warning message in Ssimpute.als(x, J, thresh, lambda, maxit, trace.it, warm.start, :\n",
            "“Convergence not achieved by 100 iterations”\n"
          ],
          "name": "stderr"
        }
      ]
    },
    {
      "cell_type": "code",
      "metadata": {
        "id": "tryCdXH8o3JQ",
        "colab_type": "code",
        "colab": {}
      },
      "source": [
        "Ximputed = complete(X,res)"
      ],
      "execution_count": 0,
      "outputs": []
    },
    {
      "cell_type": "markdown",
      "metadata": {
        "id": "g_b-1xicsrRl",
        "colab_type": "text"
      },
      "source": [
        "**Create a test and a validation sets, and try to find a good regularisation parameter.**"
      ]
    },
    {
      "cell_type": "code",
      "metadata": {
        "id": "X4KHXKIqqGAb",
        "colab_type": "code",
        "colab": {}
      },
      "source": [
        ""
      ],
      "execution_count": 0,
      "outputs": []
    }
  ]
}
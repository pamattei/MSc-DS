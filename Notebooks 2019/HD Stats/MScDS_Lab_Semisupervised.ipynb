{
  "nbformat": 4,
  "nbformat_minor": 0,
  "metadata": {
    "colab": {
      "name": "MScDS_Lab_Semisupervised.ipynb",
      "provenance": []
    },
    "kernelspec": {
      "name": "python3",
      "display_name": "Python 3"
    },
    "accelerator": "GPU"
  },
  "cells": [
    {
      "cell_type": "markdown",
      "metadata": {
        "id": "l7dr3ZuSoHh6",
        "colab_type": "text"
      },
      "source": [
        "# MSc Data Science lab: Semi supervised deep learning via entropy minimisation"
      ]
    },
    {
      "cell_type": "markdown",
      "metadata": {
        "id": "o5gfSybxoWV8",
        "colab_type": "text"
      },
      "source": [
        "We're going to use the entropy minimisation technique of [Grandvalet and Bengio (2004)](https://papers.nips.cc/paper/2740-semi-supervised-learning-by-entropy-minimization.pdf) to learn a MNIST classifier using only 1000 labels. "
      ]
    },
    {
      "cell_type": "markdown",
      "metadata": {
        "id": "z3sguCcpg2Yw",
        "colab_type": "text"
      },
      "source": [
        "# Loading useful stuff"
      ]
    },
    {
      "cell_type": "code",
      "metadata": {
        "id": "MPwsirHNgywB",
        "colab_type": "code",
        "outputId": "36a95d3b-d570-4428-c338-e9bdaad96383",
        "colab": {
          "base_uri": "https://localhost:8080/",
          "height": 36
        }
      },
      "source": [
        "try:\n",
        "  # %tensorflow_version only exists in Colab.\n",
        "  %tensorflow_version 2.x\n",
        "except Exception:\n",
        "  pass"
      ],
      "execution_count": 0,
      "outputs": [
        {
          "output_type": "stream",
          "text": [
            "TensorFlow 2.x selected.\n"
          ],
          "name": "stdout"
        }
      ]
    },
    {
      "cell_type": "code",
      "metadata": {
        "id": "xMPYV_R2ghyx",
        "colab_type": "code",
        "colab": {}
      },
      "source": [
        "import numpy as np\n",
        "import tensorflow as tf\n",
        "import matplotlib.pyplot as plt\n",
        "import tensorflow_probability as tfp\n",
        "\n",
        "tfk = tf.keras\n",
        "tfkl = tf.keras.layers\n",
        "tfd = tfp.distributions"
      ],
      "execution_count": 0,
      "outputs": []
    },
    {
      "cell_type": "markdown",
      "metadata": {
        "id": "h58v-MfihGen",
        "colab_type": "text"
      },
      "source": [
        "# Loading MNIST and removing some labels"
      ]
    },
    {
      "cell_type": "code",
      "metadata": {
        "id": "1sTryqQpguSj",
        "colab_type": "code",
        "outputId": "25556e3d-3d90-4ffa-e2cc-82091188a497",
        "colab": {
          "base_uri": "https://localhost:8080/",
          "height": 55
        }
      },
      "source": [
        "(xtrain, ytrain), (xtest,  ytest) = tf.keras.datasets.mnist.load_data()\n",
        "xtrain = (xtrain/255.).reshape([-1,28,28,1])\n",
        "xtest = (xtest/255.).reshape([-1,28,28,1])\n",
        "ytrain = tf.cast(ytrain, tf.int64)\n",
        "ytest =tf.cast(ytest, tf.int64)"
      ],
      "execution_count": 0,
      "outputs": [
        {
          "output_type": "stream",
          "text": [
            "Downloading data from https://storage.googleapis.com/tensorflow/tf-keras-datasets/mnist.npz\n",
            "11493376/11490434 [==============================] - 0s 0us/step\n"
          ],
          "name": "stdout"
        }
      ]
    },
    {
      "cell_type": "code",
      "metadata": {
        "id": "xP-RnOcwjIUK",
        "colab_type": "code",
        "outputId": "6cf61aad-3d07-48b3-d4cb-35695331f25d",
        "colab": {
          "base_uri": "https://localhost:8080/",
          "height": 248
        }
      },
      "source": [
        "plt.imshow(xtrain[1, :].reshape((28,28)), cmap='gray')\n",
        "plt.axis('off')\n",
        "plt.show()"
      ],
      "execution_count": 0,
      "outputs": [
        {
          "output_type": "display_data",
          "data": {
            "image/png": "[encoded data removed]",
            "text/plain": [
              "<Figure size 432x288 with 1 Axes>"
            ]
          },
          "metadata": {
            "tags": []
          }
        }
      ]
    },
    {
      "cell_type": "markdown",
      "metadata": {
        "id": "ZyOF4aaKp96n",
        "colab_type": "text"
      },
      "source": [
        "We only keep the labels of the first 1000 digits.\n",
        "\n",
        "**Question:** What do you think of this choice?"
      ]
    },
    {
      "cell_type": "code",
      "metadata": {
        "id": "4TTmVW3zUYVm",
        "colab_type": "code",
        "colab": {}
      },
      "source": [
        "train_dataset_labels = tf.data.Dataset.from_tensor_slices((xtrain[:1000,],ytrain[:1000])).shuffle(60000).batch(32) # TF creates the batches for us\n",
        "train_dataset_nolabels = tf.data.Dataset.from_tensor_slices((xtrain[1000:,])).shuffle(60000).batch(32) # TF creates the batches for us"
      ],
      "execution_count": 0,
      "outputs": []
    },
    {
      "cell_type": "markdown",
      "metadata": {
        "id": "Ukx-euwihWT0",
        "colab_type": "text"
      },
      "source": [
        "## Classification using only the labelled data"
      ]
    },
    {
      "cell_type": "markdown",
      "metadata": {
        "id": "nqCIj_dXjv-o",
        "colab_type": "text"
      },
      "source": [
        "Let us first build a small neural net to classify MNIST. The model is:\n",
        "$$ p (y | \\mathbf{x} ) = \\text{Cat} (y |\\text{Convnet}(\\mathbf{x})),$$\n",
        "and the architecture of the convnet is similar to the famous LeNet."
      ]
    },
    {
      "cell_type": "code",
      "metadata": {
        "id": "Gjopb-dD_16f",
        "colab_type": "code",
        "colab": {}
      },
      "source": [
        "classifier = tfk.Sequential([\n",
        "  tfkl.InputLayer(input_shape=[28,28,1,]),\n",
        "  tfkl.Conv2D(6, kernel_size=(5, 5), strides=(1, 1), activation=\"relu\", input_shape=(28,28,1), padding=\"same\",kernel_initializer=\"he_normal\"),\n",
        "  tfkl.AveragePooling2D(pool_size=(2, 2), strides=(1, 1), padding=\"valid\"),\n",
        "  tfkl.Conv2D(16, kernel_size=(5, 5), strides=(1, 1), activation=\"relu\", padding=\"valid\",kernel_initializer=\"he_normal\"),\n",
        "  tfkl.AveragePooling2D(pool_size=(2, 2), strides=(2, 2), padding=\"valid\"),\n",
        "  tfkl.Conv2D(120, kernel_size=(5, 5), strides=(1, 1), activation=\"relu\", padding=\"valid\",kernel_initializer=\"he_normal\"),\n",
        "  tfkl.Flatten(),\n",
        "  tfkl.Dense(84, activation=\"relu\",kernel_initializer=\"he_normal\"),\n",
        "  tfkl.Dense(10, activation=\"softmax\")\n",
        "])"
      ],
      "execution_count": 0,
      "outputs": []
    },
    {
      "cell_type": "markdown",
      "metadata": {
        "id": "ZZl_rr_thoU9",
        "colab_type": "text"
      },
      "source": [
        "To train the classifier, we define a function that performs a gradient descent step. First, we choose the flavour of SGD that we want (in this case, Adam)."
      ]
    },
    {
      "cell_type": "code",
      "metadata": {
        "id": "7fDvvHAEq2BY",
        "colab_type": "code",
        "colab": {}
      },
      "source": [
        "optimizer = tfk.optimizers.Adam(learning_rate=0.0005)"
      ],
      "execution_count": 0,
      "outputs": []
    },
    {
      "cell_type": "markdown",
      "metadata": {
        "id": "AOtN8V7Dh56N",
        "colab_type": "text"
      },
      "source": [
        "We can now define the gradient step:"
      ]
    },
    {
      "cell_type": "code",
      "metadata": {
        "id": "-WwxktDPq2Do",
        "colab_type": "code",
        "colab": {}
      },
      "source": [
        "@tf.function\n",
        "def train_step(data, labels):\n",
        "  with tf.GradientTape() as tape: # the gradient tape saves all the step that needs to be saved fopr automatic differentiation\n",
        "    preds = classifier(data)\n",
        "    p_ygivenx_model = tfd.Categorical(probs = preds+0.0001) # One could also use logits rather than probs and remove the softmax layer...\n",
        "    logp_ygivenx = p_ygivenx_model.log_prob(labels)\n",
        "    loss = -tf.reduce_mean(logp_ygivenx)  # the loss is the average negative log likelihood\n",
        "  gradients = tape.gradient(loss, classifier.trainable_variables)  # here, the gradient is automatically computed\n",
        "  optimizer.apply_gradients(zip(gradients, classifier.trainable_variables))  # Adam iteration"
      ],
      "execution_count": 0,
      "outputs": []
    },
    {
      "cell_type": "markdown",
      "metadata": {
        "id": "jUTLqnFfilpS",
        "colab_type": "text"
      },
      "source": [
        "To evaluate the quality of our model, we will write a function that computes both accuracy and log_likelihood. We don't care about gradients here bacause it's only for evaluation (not for training)."
      ]
    },
    {
      "cell_type": "code",
      "metadata": {
        "id": "a3SdSZiDCa7k",
        "colab_type": "code",
        "colab": {}
      },
      "source": [
        "@tf.function\n",
        "def evaluate(data, labels):\n",
        "  preds = classifier(data)\n",
        "  p_ygivenx_model = tfd.Categorical(probs = preds+0.0001)\n",
        "  logp_ygivenx = p_ygivenx_model.log_prob(labels)\n",
        "  log_likelihood = tf.reduce_mean(logp_ygivenx)\n",
        "  y_pred = tf.argmax(preds,1)\n",
        "  acc = tf.reduce_mean(tf.cast(y_pred == labels,tf.float32))\n",
        "  return acc, log_likelihood"
      ],
      "execution_count": 0,
      "outputs": []
    },
    {
      "cell_type": "markdown",
      "metadata": {
        "id": "urW2oXxPs_u4",
        "colab_type": "text"
      },
      "source": [
        "Now we train the model using only the labelled data."
      ]
    },
    {
      "cell_type": "code",
      "metadata": {
        "id": "aRcuargKLj9t",
        "colab_type": "code",
        "outputId": "a76a533d-38ec-496a-bdcb-64f5e652ef22",
        "colab": {
          "base_uri": "https://localhost:8080/",
          "height": 839
        }
      },
      "source": [
        "EPOCHS = 1002\n",
        "\n",
        "acc = np.zeros(EPOCHS+1)\n",
        "ll = np.zeros(EPOCHS+1)\n",
        "\n",
        "for epoch in range(1,EPOCHS+1):\n",
        "  for images, labels in train_dataset_labels:\n",
        "    train_step(images, labels) # Adam iteration\n",
        "  acc_train, log_likelihood_train = evaluate(xtrain[:1000,],ytrain[:1000])\n",
        "  acc_test, log_likelihood_test = evaluate(xtest,ytest)\n",
        "  acc[epoch] = acc_test.numpy()\n",
        "  ll[epoch] = log_likelihood_test.numpy()\n",
        "  if (epoch % 200 == 1): \n",
        "    print('Epoch  %g' %epoch)\n",
        "    print('Train accuracy  %g' %acc_train.numpy())\n",
        "    print('Test accuracy  %g' %acc_test.numpy())\n",
        "    print('Train log-likelihood  %g' %log_likelihood_train.numpy())\n",
        "    print('Test log-likelihood  %g' %log_likelihood_test.numpy())\n",
        "    print('-----------')"
      ],
      "execution_count": 0,
      "outputs": [
        {
          "output_type": "stream",
          "text": [
            "WARNING:tensorflow:Layer conv2d_6 is casting an input tensor from dtype float64 to the layer's dtype of float32, which is new behavior in TensorFlow 2.  The layer has dtype float32 because it's dtype defaults to floatx.\n",
            "\n",
            "If you intended to run this layer in float32, you can safely ignore this warning. If in doubt, this warning is likely only an issue if you are porting a TensorFlow 1.X model to TensorFlow 2.\n",
            "\n",
            "To change all layers to have dtype float64 by default, call `tf.keras.backend.set_floatx('float64')`. To change just this layer, pass dtype='float64' to the layer constructor. If you are the author of this layer, you can disable autocasting by passing autocast=False to the base Layer constructor.\n",
            "\n",
            "Epoch  1\n",
            "Train accuracy  0.835\n",
            "Test accuracy  0.798\n",
            "Train log-likelihood  -0.55119\n",
            "Test log-likelihood  -0.658724\n",
            "-----------\n",
            "Epoch  201\n",
            "Train accuracy  1\n",
            "Test accuracy  0.9375\n",
            "Train log-likelihood  -0.000902651\n",
            "Test log-likelihood  -0.338861\n",
            "-----------\n",
            "Epoch  401\n",
            "Train accuracy  1\n",
            "Test accuracy  0.9391\n",
            "Train log-likelihood  -0.00089971\n",
            "Test log-likelihood  -0.366509\n",
            "-----------\n",
            "Epoch  601\n",
            "Train accuracy  1\n",
            "Test accuracy  0.9393\n",
            "Train log-likelihood  -0.000899652\n",
            "Test log-likelihood  -0.389106\n",
            "-----------\n",
            "Epoch  801\n",
            "Train accuracy  1\n",
            "Test accuracy  0.9391\n",
            "Train log-likelihood  -0.000899652\n",
            "Test log-likelihood  -0.406521\n",
            "-----------\n",
            "Epoch  1001\n",
            "Train accuracy  1\n",
            "Test accuracy  0.9388\n",
            "Train log-likelihood  -0.000899652\n",
            "Test log-likelihood  -0.416413\n",
            "-----------\n"
          ],
          "name": "stdout"
        }
      ]
    },
    {
      "cell_type": "code",
      "metadata": {
        "id": "iexR8cI6PhW1",
        "colab_type": "code",
        "outputId": "b139f99c-9990-44b2-da32-a46513dfa5d3",
        "colab": {
          "base_uri": "https://localhost:8080/",
          "height": 279
        }
      },
      "source": [
        "plt.plot(acc[20:])\n",
        "plt.ylabel('Test accuracy')\n",
        "plt.xlabel('Epochs')\n",
        "plt.show()"
      ],
      "execution_count": 0,
      "outputs": [
        {
          "output_type": "display_data",
          "data": {
            "image/png": "[encoded data removed]",
            "text/plain": [
              "<Figure size 432x288 with 1 Axes>"
            ]
          },
          "metadata": {
            "tags": []
          }
        }
      ]
    },
    {
      "cell_type": "markdown",
      "metadata": {
        "id": "-OPNepFyxw3n",
        "colab_type": "text"
      },
      "source": [
        "**Question:** Implement entropy minimisation to leverage both labelled and unlabelled digits."
      ]
    }
  ]
}